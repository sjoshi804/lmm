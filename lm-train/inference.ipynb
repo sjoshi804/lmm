{
 "cells": [
  {
   "cell_type": "code",
   "execution_count": 7,
   "metadata": {},
   "outputs": [],
   "source": [
    "from transformers import GPTJForCausalLM, AutoTokenizer\n",
    "import torch\n",
    "\n",
    "# Load the tokenizer and model\n",
    "model_path = \"/home/sjoshi/lmm/lm-train/checkpoints/v3_spatial_grid_gptj/checkpoint-1953\"  # Replace with the path where your model is saved\n",
    "tokenizer = AutoTokenizer.from_pretrained(model_path)\n",
    "model = GPTJForCausalLM.from_pretrained(model_path)\n",
    "\n",
    "# Set the model to evaluation mode\n",
    "model.eval()\n",
    "\n",
    "# Define a function to generate text\n",
    "def generate_text(prompt, max_new_tokens=50):\n",
    "    inputs = tokenizer(prompt, return_tensors=\"pt\")\n",
    "    \n",
    "    # Generate text using the model\n",
    "    with torch.no_grad():\n",
    "        outputs = model.generate(\n",
    "            inputs.input_ids,\n",
    "            max_new_tokens=max_new_tokens,\n",
    "            num_return_sequences=1,\n",
    "            no_repeat_ngram_size=2,\n",
    "            pad_token_id=tokenizer.eos_token_id,\n",
    "            early_stopping=True\n",
    "        )\n",
    "    \n",
    "    # Decode the generated text\n",
    "    generated_text = tokenizer.decode(outputs[0], skip_special_tokens=True)\n",
    "    return generated_text"
   ]
  },
  {
   "cell_type": "code",
   "execution_count": 30,
   "metadata": {},
   "outputs": [
    {
     "name": "stdout",
     "output_type": "stream",
     "text": [
      "DatasetDict({\n",
      "    train: Dataset({\n",
      "        features: ['text'],\n",
      "        num_rows: 1000000\n",
      "    })\n",
      "    validation: Dataset({\n",
      "        features: ['text'],\n",
      "        num_rows: 1000\n",
      "    })\n",
      "    test: Dataset({\n",
      "        features: ['text'],\n",
      "        num_rows: 1000\n",
      "    })\n",
      "})\n"
     ]
    }
   ],
   "source": [
    "\n",
    "from datasets import load_from_disk\n",
    "\n",
    "# Specify the path to the dataset\n",
    "dataset_path = '/home/sjoshi/lmm/data/generated/v2_spatial_grid'\n",
    "\n",
    "# Load the dataset\n",
    "dataset = load_from_disk(dataset_path)\n",
    "K = 5\n",
    "\n",
    "# Display the dataset\n",
    "print(dataset)"
   ]
  },
  {
   "cell_type": "code",
   "execution_count": 27,
   "metadata": {},
   "outputs": [
    {
     "name": "stderr",
     "output_type": "stream",
     "text": [
      "  0%|          | 0/250 [00:00<?, ?it/s]/home/sjoshi/anaconda3/envs/vlm/lib/python3.10/site-packages/transformers/generation/configuration_utils.py:433: UserWarning: `num_beams` is set to 1. However, `early_stopping` is set to `True` -- this flag is only used in beam-based generation modes. You should set `num_beams>1` or unset `early_stopping`.\n",
      "  warnings.warn(\n",
      "Accuracy: 0.378:   1%|          | 2/250 [00:22<30:51,  7.47s/it]"
     ]
    }
   ],
   "source": [
    "import re\n",
    "from tqdm import tqdm \n",
    "\n",
    "def parse_answer(text):\n",
    "    match = re.search(r'A:\\s*(.*)', text)\n",
    "    if match:\n",
    "        return match.group(1).split('\\n')[0]\n",
    "    return None\n",
    "\n",
    "def parse_grid(grid_str):\n",
    "    grid_str = '\\n'.join(grid_str.split('\\n')[:K])\n",
    "    rows = grid_str.strip().split('\\n')\n",
    "    grid = [row.strip().split('|') for row in rows]\n",
    "    # Remove any empty strings resulting from splitting and strip each element\n",
    "    return [[cell.strip() for cell in row if cell.strip()] for row in grid]\n",
    "\n",
    "total = 0\n",
    "correct = 0\n",
    "accuracy = 0.0\n",
    "wrong_per_pos = {}\n",
    "num_grids = 0\n",
    "pbar = tqdm(dataset['validation'], total=250)\n",
    "for example in pbar:\n",
    "    num_grids += 1\n",
    "    prompt = example[\"text\"].split(']')[0] + '].'\n",
    "    grid = parse_grid(prompt)\n",
    "    for i in range(K):\n",
    "        for j in range(K):\n",
    "            total += 1\n",
    "            current_prompt = prompt + f\"\\nWhat object is in row {i}, column {j}?\"\n",
    "            parsed_answer = parse_answer(generate_text(current_prompt, max_new_tokens=5))\n",
    "            if parsed_answer == grid[i][j]:\n",
    "                correct += 1\n",
    "            else:\n",
    "                if (i, j) in wrong_per_pos:\n",
    "                    wrong_per_pos[(i, j)] += 1\n",
    "                else:\n",
    "                    wrong_per_pos[(i, j)] = 1\n",
    "            accuracy = correct / total\n",
    "            pbar.set_description(f'Accuracy: {accuracy:.3f}')\n",
    "    if num_grids == 250:\n",
    "        break"
   ]
  },
  {
   "cell_type": "code",
   "execution_count": 28,
   "metadata": {},
   "outputs": [
    {
     "name": "stdout",
     "output_type": "stream",
     "text": [
      "wrong_per_pos saved to /home/sjoshi/lmm/lm-train/checkpoints/wrong_per_pos.json\n"
     ]
    }
   ],
   "source": [
    "import json\n",
    "\n",
    "# Specify the path to save the file\n",
    "file_path = '/home/sjoshi/lmm/lm-train/checkpoints/wrong_per_pos.json'\n",
    "\n",
    "# Convert tuple keys to strings\n",
    "wrong_per_pos_str_keys = {str(k): v for k, v in wrong_per_pos.items()}\n",
    "\n",
    "# Save the dictionary to a JSON file\n",
    "with open(file_path, 'w') as f:\n",
    "    json.dump(wrong_per_pos_str_keys, f)\n",
    "\n",
    "print(f\"wrong_per_pos saved to {file_path}\")"
   ]
  },
  {
   "cell_type": "code",
   "execution_count": 29,
   "metadata": {},
   "outputs": [
    {
     "name": "stdout",
     "output_type": "stream",
     "text": [
      "3\n"
     ]
    },
    {
     "ename": "IndexError",
     "evalue": "list assignment index out of range",
     "output_type": "error",
     "traceback": [
      "\u001b[0;31m---------------------------------------------------------------------------\u001b[0m",
      "\u001b[0;31mIndexError\u001b[0m                                Traceback (most recent call last)",
      "Cell \u001b[0;32mIn[29], line 20\u001b[0m\n\u001b[1;32m     18\u001b[0m \u001b[38;5;66;03m# Fill the grid with the values from wrong_per_pos\u001b[39;00m\n\u001b[1;32m     19\u001b[0m \u001b[38;5;28;01mfor\u001b[39;00m (row, col), value \u001b[38;5;129;01min\u001b[39;00m wrong_per_pos\u001b[38;5;241m.\u001b[39mitems():\n\u001b[0;32m---> 20\u001b[0m     \u001b[43mparsed_grid\u001b[49m\u001b[43m[\u001b[49m\u001b[43mrow\u001b[49m\u001b[43m]\u001b[49m\u001b[43m[\u001b[49m\u001b[43mcol\u001b[49m\u001b[43m]\u001b[49m \u001b[38;5;241m=\u001b[39m value\n\u001b[1;32m     22\u001b[0m \u001b[38;5;28mprint\u001b[39m(parsed_grid)\n",
      "\u001b[0;31mIndexError\u001b[0m: list assignment index out of range"
     ]
    }
   ],
   "source": [
    "import json\n",
    "\n",
    "# Specify the path to save the file\n",
    "file_path = '/home/sjoshi/lmm/lm-train/checkpoints/wrong_per_pos.json'\n",
    "\n",
    "# Load the dictionary from the JSON file\n",
    "with open(file_path, 'r') as f:\n",
    "    wrong_per_pos_str_keys = json.load(f)\n",
    "\n",
    "# Convert string keys back to tuple keys\n",
    "wrong_per_pos = {eval(k): v for k, v in wrong_per_pos_str_keys.items()}\n",
    "\n",
    "parsed_grid = [[0 for _ in range(K)] for _ in range(K)]\n",
    "\n",
    "# Fill the grid with the values from wrong_per_pos\n",
    "for (row, col), value in wrong_per_pos.items():\n",
    "    parsed_grid[row][col] = value\n",
    "\n",
    "print(parsed_grid)"
   ]
  },
  {
   "cell_type": "code",
   "execution_count": 17,
   "metadata": {},
   "outputs": [
    {
     "data": {
      "image/png": "[encoded data removed]",
      "text/plain": [
       "<Figure size 800x600 with 2 Axes>"
      ]
     },
     "metadata": {},
     "output_type": "display_data"
    }
   ],
   "source": [
    "import seaborn as sns\n",
    "import numpy as np\n",
    "\n",
    "import matplotlib.pyplot as plt\n",
    "\n",
    "# Initialize a 3x3 grid with zeros\n",
    "heatmap_data = np.zeros((5,5))\n",
    "\n",
    "# Fill the grid with the values from wrong_per_pos\n",
    "for (row, col), value in wrong_per_pos.items():\n",
    "    heatmap_data[row, col] = value\n",
    "\n",
    "# Plot the heatmap\n",
    "plt.figure(figsize=(8, 6))\n",
    "sns.heatmap(heatmap_data, annot=True, fmt=\".0f\", cmap=\"YlGnBu\", xticklabels=[0, 1, 2], yticklabels=[0, 1, 2])\n",
    "plt.title(\"Heatmap of Wrong Predictions per Grid Position (v2: 5x5)\")\n",
    "plt.xlabel(\"Column\")\n",
    "plt.ylabel(\"Row\")\n",
    "plt.show()"
   ]
  }
 ],
 "metadata": {
  "kernelspec": {
   "display_name": "vlm",
   "language": "python",
   "name": "python3"
  },
  "language_info": {
   "codemirror_mode": {
    "name": "ipython",
    "version": 3
   },
   "file_extension": ".py",
   "mimetype": "text/x-python",
   "name": "python",
   "nbconvert_exporter": "python",
   "pygments_lexer": "ipython3",
   "version": "3.10.0"
  }
 },
 "nbformat": 4,
 "nbformat_minor": 2
}
