{
 "cells": [
  {
   "cell_type": "code",
   "execution_count": 1,
   "metadata": {},
   "outputs": [
    {
     "name": "stderr",
     "output_type": "stream",
     "text": [
      "/home/sjoshi/anaconda3/envs/vlm/lib/python3.10/site-packages/tqdm/auto.py:21: TqdmWarning: IProgress not found. Please update jupyter and ipywidgets. See https://ipywidgets.readthedocs.io/en/stable/user_install.html\n",
      "  from .autonotebook import tqdm as notebook_tqdm\n"
     ]
    }
   ],
   "source": [
    "from transformers import GPT2LMHeadModel, GPT2Tokenizer\n",
    "import torch\n",
    "\n",
    "# Load the tokenizer and model\n",
    "model_path = \"/home/sjoshi/lmm/lm-train/checkpoints/v3_spatial_grid/checkpoint-31250\"  # Replace with the path where your model is saved\n",
    "tokenizer = GPT2Tokenizer.from_pretrained(model_path)\n",
    "model = GPT2LMHeadModel.from_pretrained(model_path)\n",
    "\n",
    "# Set the model to evaluation mode\n",
    "model.eval()\n",
    "\n",
    "# Define a function to generate text\n",
    "def generate_text(prompt, max_length=50):\n",
    "    inputs = tokenizer(prompt, return_tensors=\"pt\")\n",
    "    \n",
    "    # Generate text using the model\n",
    "    with torch.no_grad():\n",
    "        outputs = model.generate(\n",
    "            inputs.input_ids,\n",
    "            max_length=max_length,\n",
    "            num_return_sequences=1,\n",
    "            no_repeat_ngram_size=2,\n",
    "            pad_token_id=tokenizer.eos_token_id,\n",
    "            early_stopping=True\n",
    "        )\n",
    "    \n",
    "    # Decode the generated text\n",
    "    generated_text = tokenizer.decode(outputs[0], skip_special_tokens=True)\n",
    "    return generated_text"
   ]
  },
  {
   "cell_type": "code",
   "execution_count": 4,
   "metadata": {},
   "outputs": [
    {
     "name": "stdout",
     "output_type": "stream",
     "text": [
      "| deer | automobile | deer |\n",
      "| deer | deer | airplane |\n",
      "| airplane | horse | airplane |\n",
      "The grid above is size 3 by 3. Each cell contains an object from ['automobile', 'airplane', 'deer', 'horse'].\n",
      "What object is in row 2, column 1? A:  1, frog\n",
      "? objectom: airplane\n",
      "\n"
     ]
    }
   ],
   "source": [
    "# Example usage\n",
    "prompt = \"\"\"| cat | cat | bird |\n",
    "| frog | horse | frog |\n",
    "| cat | automobile | bird |\n",
    "The grid above is size 3 by 3. Each cell contains an object from ['horse', 'automobile', 'cat', 'bird', 'frog'].\n",
    "What object is in row 0, column 0? A: cat\n",
    "What object is in row 0, column 1? A: cat\n",
    "What object is in row 2, column 1? A: automobile\n",
    "What object is in row 2, column 0? A: cat\n",
    "What object is in row 0, column 2? A: bird\n",
    "What object is in row 2, column 2? A: bird\n",
    "What object is in row 1, column 1? A: horse\n",
    "What object is in row 1, column 0? A: frog\n",
    "What object is in row 1, column 2? A: frog\"\"\"\n",
    "generated_text = generate_text(prompt, max_length=200)\n",
    "print(generated_text)"
   ]
  }
 ],
 "metadata": {
  "kernelspec": {
   "display_name": "vlm",
   "language": "python",
   "name": "python3"
  },
  "language_info": {
   "codemirror_mode": {
    "name": "ipython",
    "version": 3
   },
   "file_extension": ".py",
   "mimetype": "text/x-python",
   "name": "python",
   "nbconvert_exporter": "python",
   "pygments_lexer": "ipython3",
   "version": "3.10.0"
  }
 },
 "nbformat": 4,
 "nbformat_minor": 2
}
