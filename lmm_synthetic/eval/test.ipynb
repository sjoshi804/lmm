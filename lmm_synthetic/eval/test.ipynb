{
 "cells": [
  {
   "cell_type": "code",
   "execution_count": 35,
   "metadata": {},
   "outputs": [
    {
     "name": "stderr",
     "output_type": "stream",
     "text": [
      "/home/allanz/miniconda3/envs/vlm/lib/python3.10/site-packages/huggingface_hub/file_download.py:1142: FutureWarning: `resume_download` is deprecated and will be removed in version 1.0.0. Downloads always resume when possible. If you want to force a new download, use `force_download=True`.\n",
      "  warnings.warn(\n",
      "You're using a GPT2TokenizerFast tokenizer. Please note that with a fast tokenizer, using the `__call__` method is faster than using a method to encode the text followed by a call to the `pad` method to get a padded encoding.\n"
     ]
    }
   ],
   "source": [
    "from IPython.display import clear_output\n",
    "from nnsight import LanguageModel\n",
    "from typing import List, Callable\n",
    "import torch\n",
    "import numpy as np\n",
    "from IPython.display import clear_output\n",
    "\n",
    "# Load gpt2\n",
    "model = LanguageModel(\"openai-community/gpt2\", device_map=\"auto\", dispatch=True)\n",
    "\n",
    "\n",
    "prompt= \"The Eiffel Tower is in the city of\"\n",
    "layers = model.transformer.h\n",
    "probs_layers = []\n",
    "\n",
    "with model.trace() as tracer:\n",
    "    with tracer.invoke(prompt) as invoker:\n",
    "        for layer_idx, layer in enumerate(layers):\n",
    "            # Process layer output through the model's head and layer normalization\n",
    "            layer_output = model.lm_head(model.transformer.ln_f(layer.output[0]))\n",
    "\n",
    "            # Apply softmax to obtain probabilities and save the result\n",
    "            probs = torch.nn.functional.softmax(layer_output, dim=-1).save()\n",
    "            probs_layers.append(probs)\n",
    "\n",
    "probs = torch.cat([probs.value for probs in probs_layers])\n",
    "\n",
    "# Find the maximum probability and corresponding tokens for each position\n",
    "max_probs, tokens = probs.max(dim=-1)\n",
    "\n",
    "# Decode token IDs to words for each layer\n",
    "words = [[model.tokenizer.decode(t.cpu()).encode(\"unicode_escape\").decode() for t in layer_tokens]\n",
    "    for layer_tokens in tokens]\n",
    "\n",
    "# Access the 'input_ids' attribute of the invoker object to get the input words\n",
    "input_words = [model.tokenizer.decode(t) for t in invoker.inputs[0][\"input_ids\"][0]]\n",
    "\n"
   ]
  },
  {
   "cell_type": "code",
   "execution_count": 41,
   "metadata": {},
   "outputs": [
    {
     "name": "stdout",
     "output_type": "stream",
     "text": [
      "[['\\\\n', ' E', 'iff', 'el', ' Tower', ' not', ' the', ' same', 'scape', ' the'], [' the', 'Z', 'ness', 'ter', ' Tower', ' not', ' order', ' same', 'scape', ' the'], [' the', 'leg', 'ness', 'ter', ' Tower', ' now', ' order', ' same', 'scape', ' the'], [' the', 'leg', 'ness', 'stra', ' Tower', ' also', ' the', ' same', ' hall', ' the'], [' the', 'leg', 'ness', 'horn', ' Tower', ' also', ' front', ' same', 'scape', ' the'], [' the', 'FP', 'ler', ' Tower', ' Towers', ' also', ' the', ' same', 'scape', ' the'], [' the', 'FP', 'ler', ' Tower', ' Tower', ' also', ' front', ' midst', 'scape', ' East'], [' the', 'FP', 'ler', ' Tower', ' Tower', ' located', ' front', ' midst', ' centre', ' Ing'], [' the', 'TS', 'ler', ' Tower', ' Tower', ' located', ' front', ' midst', ' centre', ' Rome'], [' the', 'FP', 'el', ' Tower', ' tower', ' located', ' London', ' midst', ' centre', ' London'], [' the', 'nerg', 'el', ' Tower', ' is', ' located', ' the', ' midst', \"'s\", ' Paris'], ['\\\\n', '-', 'el', ' Tower', ' is', ' a', ' the', ' middle', ' centre', ' Paris']]\n",
      "['The', ' E', 'iff', 'el', ' Tower', ' is', ' in', ' the', ' city', ' of']\n",
      "10\n",
      "3\n"
     ]
    }
   ],
   "source": [
    "print(words)\n",
    "print(input_words)\n",
    "\n",
    "print(len(words[0]))\n",
    "print(len(input_words[0]))"
   ]
  },
  {
   "cell_type": "code",
   "execution_count": null,
   "metadata": {},
   "outputs": [],
   "source": [
    "import plotly.express as px\n",
    "import plotly.io as pio\n",
    "pio.renderers.default = \"plotly_mimetype+notebook_connected+colab+notebook\"\n",
    "\n",
    "fig = px.imshow(\n",
    "    max_probs.detach().cpu().numpy(),\n",
    "    x=input_words,\n",
    "    y=list(range(len(words))),\n",
    "    color_continuous_scale=px.colors.diverging.RdYlBu_r,\n",
    "    color_continuous_midpoint=0.50,\n",
    "    text_auto=True,\n",
    "    labels=dict(x=\"Input Tokens\", y=\"Layers\", color=\"Probability\")\n",
    ")\n",
    "\n",
    "fig.update_layout(\n",
    "    title='Logit Lens Visualization',\n",
    "    xaxis_tickangle=0\n",
    ")\n",
    "\n",
    "fig.update_traces(text=words, texttemplate=\"%{text}\")\n",
    "fig.show()"
   ]
  }
 ],
 "metadata": {
  "kernelspec": {
   "display_name": "base",
   "language": "python",
   "name": "python3"
  },
  "language_info": {
   "codemirror_mode": {
    "name": "ipython",
    "version": 3
   },
   "file_extension": ".py",
   "mimetype": "text/x-python",
   "name": "python",
   "nbconvert_exporter": "python",
   "pygments_lexer": "ipython3",
   "version": "3.12.3"
  }
 },
 "nbformat": 4,
 "nbformat_minor": 2
}
