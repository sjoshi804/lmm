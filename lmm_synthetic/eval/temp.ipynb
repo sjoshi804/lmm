{
 "cells": [
  {
   "cell_type": "code",
   "execution_count": 1,
   "metadata": {},
   "outputs": [
    {
     "name": "stderr",
     "output_type": "stream",
     "text": [
      "/home/allanz/miniconda3/envs/vlm/lib/python3.10/site-packages/tqdm/auto.py:21: TqdmWarning: IProgress not found. Please update jupyter and ipywidgets. See https://ipywidgets.readthedocs.io/en/stable/user_install.html\n",
      "  from .autonotebook import tqdm as notebook_tqdm\n"
     ]
    }
   ],
   "source": [
    "from nnsight import NNsight\n",
    "import torch \n",
    "from transformers import GPTJForCausalLM, AutoTokenizer \n",
    " \n",
    "model_path = \"/data/lmm/checkpoints/checkpoint-1953\"\n",
    "\n",
    "gptj = GPTJForCausalLM.from_pretrained(model_path)\n",
    "tokenizer = AutoTokenizer.from_pretrained(model_path)\n"
   ]
  },
  {
   "cell_type": "code",
   "execution_count": 2,
   "metadata": {},
   "outputs": [],
   "source": [
    "gptj_sight = NNsight(gptj)"
   ]
  },
  {
   "cell_type": "code",
   "execution_count": 11,
   "metadata": {},
   "outputs": [
    {
     "name": "stderr",
     "output_type": "stream",
     "text": [
      "/home/allanz/miniconda3/envs/vlm/lib/python3.10/site-packages/transformers/generation/configuration_utils.py:433: UserWarning: `num_beams` is set to 1. However, `early_stopping` is set to `True` -- this flag is only used in beam-based generation modes. You should set `num_beams>1` or unset `early_stopping`.\n",
      "  warnings.warn(\n"
     ]
    }
   ],
   "source": [
    "text = \"\"\"| apple | banana | cherry | apple | banana |\n",
    "| date | elderberry | apple | cherry | date |\n",
    "| banana | cherry | apple | elderberry | banana |\n",
    "| date | apple | banana | cherry | elderberry |\n",
    "| cherry | date | elderberry | apple | banana |\n",
    "The grid above is size 5 by 5. Each cell contains an object from ['apple', 'banana', 'cherry'].\n",
    "What object is in row 0, column 0? A: apple\n",
    "What object is in row 1, column 2? A: apple\n",
    "What object is in row 2, column 4? A: banana\n",
    "What object is in row 3, column 1? A: apple\n",
    "What object is in row 4, column 3? A: apple\"\"\"\n",
    "\n",
    "input_ids = tokenizer(text, return_tensors=\"pt\").input_ids\n",
    "device = torch.device(\"cuda\" if torch.cuda.is_available() else \"cpu\")\n",
    "\n",
    "gptj.to(device)\n",
    "\n",
    "inputs = tokenizer(\n",
    "        text,\n",
    "        return_tensors=\"pt\",\n",
    "        padding=True,\n",
    "        truncation=True,\n",
    "        max_length=512\n",
    "    ).to(device)\n",
    "\n",
    "with torch.no_grad():\n",
    "        outputs = gptj.generate(\n",
    "            inputs.input_ids,\n",
    "            max_new_tokens=50,\n",
    "            num_return_sequences=1,\n",
    "            no_repeat_ngram_size=2,\n",
    "            pad_token_id=tokenizer.eos_token_id,\n",
    "            early_stopping=True\n",
    "        )"
   ]
  },
  {
   "cell_type": "code",
   "execution_count": 41,
   "metadata": {},
   "outputs": [
    {
     "name": "stdout",
     "output_type": "stream",
     "text": [
      "tensor([[ 91, 282,  79,  79,  75,  68, 272, 288, 293, 293,  64, 272, 257,  71,\n",
      "          68,  81,  81,  88, 272, 282,  79,  79,  75,  68, 272, 288, 293, 293,\n",
      "          64, 272, 198,  91, 284, 260,  68, 272, 220, 335,  67,  68,  81,  65,\n",
      "          68,  81,  81,  88, 272, 282,  79,  79,  75,  68, 272, 257,  71,  68,\n",
      "          81,  81,  88, 272, 284, 260,  68, 272, 198,  91, 288, 293, 293,  64,\n",
      "         272, 257,  71,  68,  81,  81,  88, 272, 282,  79,  79,  75,  68, 272,\n",
      "         220, 335,  67,  68,  81,  65,  68,  81,  81,  88, 272, 288, 293, 293,\n",
      "          64, 272, 198,  91, 284, 260,  68, 272, 282,  79,  79,  75,  68, 272,\n",
      "         288, 293, 293,  64, 272, 257,  71,  68,  81,  81,  88, 272, 220, 335,\n",
      "          67,  68,  81,  65,  68,  81,  81,  88, 272, 198,  91, 257,  71,  68,\n",
      "          81,  81,  88, 272, 284, 260,  68, 272, 220, 335,  67,  68,  81,  65,\n",
      "          68,  81,  81,  88, 272, 282,  79,  79,  75,  68, 272, 288, 293, 293,\n",
      "          64, 272, 198, 353, 356, 359, 265, 360, 220,  20, 349, 220,  20,  13,\n",
      "         355, 357, 358, 347, 267, 350, 343,  64,  79,  79,  75,  68, 285, 286,\n",
      "          65, 293, 293,  64, 285, 286, 334,  68,  81,  81,  88, 352, 198, 276,\n",
      "         267, 265, 274, 277, 279,  11, 278, 279,  30, 271,  25, 282,  79,  79,\n",
      "          75,  68, 198, 276, 267, 265, 274, 277, 280,  11, 278, 281,  30, 271,\n",
      "          25, 282,  79,  79,  75,  68, 198, 276, 267, 265, 274, 277, 281,  11,\n",
      "         278, 220,  19,  30, 271,  25, 288, 293, 293,  64, 198, 276, 267, 265,\n",
      "         274, 277, 317,  11, 278, 280,  30, 271,  25, 282,  79,  79,  75,  68,\n",
      "         198, 276, 267, 265, 274, 277, 220,  19,  11, 278, 317,  30, 271,  25,\n",
      "         282,  79,  79,  75,  68]], device='cuda:0')\n"
     ]
    }
   ],
   "source": [
    "print(inputs[\"input_ids\"])"
   ]
  },
  {
   "cell_type": "code",
   "execution_count": 33,
   "metadata": {},
   "outputs": [],
   "source": [
    "probs_layers = []\n",
    "\n",
    "layers = gptj_sight.transformer.h\n",
    "\n",
    "with gptj_sight.trace() as tracer:\n",
    "    with tracer.invoke(outputs) as invoker:\n",
    "        for layer_idx, layer in enumerate(layers):\n",
    "            layer_output = gptj_sight.lm_head(gptj_sight.transformer.ln_f(layer.output[0]))\n",
    "\n",
    "            probs = torch.nn.functional.softmax(layer_output, dim=-1).save()\n",
    "            probs_layers.append(probs)\n",
    "\n",
    "probs = torch.cat([probs.value for probs in probs_layers])\n",
    "\n",
    "max_probs, tokens = probs.max(dim=-1)"
   ]
  },
  {
   "cell_type": "code",
   "execution_count": null,
   "metadata": {},
   "outputs": [],
   "source": [
    "words = [[tokenizer.decode(t.cpu()) for t in layer_tokens] for layer_tokens in tokens]"
   ]
  },
  {
   "cell_type": "code",
   "execution_count": 46,
   "metadata": {},
   "outputs": [],
   "source": [
    "input_words = [tokenizer.decode(t) for t in inputs[\"input_ids\"]]"
   ]
  },
  {
   "cell_type": "code",
   "execution_count": 71,
   "metadata": {},
   "outputs": [
    {
     "data": {
      "text/plain": [
       "\"| apple | banana | cherry | apple | banana |\\n| date | elderberry | apple | cherry | date |\\n| banana | cherry | apple | elderberry | banana |\\n| date | apple | banana | cherry | elderberry |\\n| cherry | date | elderberry | apple | banana |\\nThe grid above is size 5 by 5. Each cell contains an object from ['apple', 'banana', 'cherry'].\\nWhat object is in row 0, column 0? A: apple\\nWhat object is in row 1, column 2? A: apple\\nWhat object is in row 2, column 4? A: banana\\nWhat object is in row 3, column 1? A: apple\\nWhat object is in row 4, column 3? A: apple\""
      ]
     },
     "execution_count": 71,
     "metadata": {},
     "output_type": "execute_result"
    }
   ],
   "source": [
    "input_words[0]"
   ]
  },
  {
   "cell_type": "code",
   "execution_count": 76,
   "metadata": {},
   "outputs": [
    {
     "name": "stdout",
     "output_type": "stream",
     "text": [
      "[['What', ' airplane', ' airplane', ' airplane', ' bird', ' airplane', ' bird', ' dog', ' airplane', ' airplane', 'airplane', ' airplane', ' airplane', 'airplane', 'airplane', ' dog', ' dog', 'airplane', ' bird', ' airplane', 'bird', 'bird', 'deer', 'airplane', ' bird', ' row', ' airplane', ' airplane', 'airplane', ' bird', 'What', 'What', ' from', 'airplane', '?', ' airplane', ' airplane', '?', ',', 'airplane', ',', ' row', 'airplane', ' dog', ' dog', ' row', ' airplane', ' airplane', 'bird', 'bird', 'airplane', 'airplane', ' airplane', ' airplane', ' from', 'airplane', ',', ',', ' airplane', ' airplane', ' row', 'airplane', 'airplane', ' airplane', 'What', 'What', ' dog', ' dog', ' dog', ' from', ' airplane', ' airplane', ' row', 'airplane', ',', ',', ' airplane', ' airplane', ' row', ' row', ' row', 'airplane', 'airplane', ' airplane', ' airplane', ' Each', ',', 'airplane', ',', ' row', 'deer', ' dog', ' dog', ' row', ' airplane', ' row', ' dog', ' airplane', ' from', ' airplane', 'What', 'What', ' from', 'airplane', 'airplane', ' airplane', ' airplane', 'deer', 'deer', ' Each', 'airplane', ' airplane', ' row', ',', ' dog', 'airplane', ' airplane', ' row', ' airplane', 'airplane', ',', ',', ' deer', ' airplane', ' airplane', ' dog', ' cell', 'airplane', ',', ',', 'airplane', ',', ',', ' airplane', ' airplane', 'What', 'What', ' row', ' airplane', 'airplane', ',', ',', ' row', ' airplane', ' from', 'airplane', 'deer', ' airplane', ' airplane', ' Each', ',', 'airplane', ',', ' row', 'airplane', ' dog', ' dog', ' airplane', ' airplane', ' airplane', '?', 'deer', ' Each', 'airplane', ' airplane', ' row', ' dog', ' airplane', 'airplane', ' airplane', 'What', ' 1', ' column', ' airplane', ' in', ' 1', '?', 'cat', ' airplane', ',', 'cat', ' row', '?', ' dog', ' row', ' object', ' from', ' 0', ',', ' deer', ' airplane', ' airplane', ' dog', ',', '?', 'dog', ',', ' row', ' row', ' frog', '?', 'dog', ',', ',', ' row', ',', ' deer', ' row', 'What', ' object', ' from', ' in', ' row', ' 0', '?', ' column', ' 1', '?', ' row', ' column', ' airplane', ' row', ' in', 'deer', ' bird', ' 1', 'What', ' object', ' from', ' in', ' row', ' 0', '?', ' column', ' 1', '?', ' row', ' column', ' airplane', ' row', ' in', ' in', ' automobile', ' deer', 'What', ' object', ' from', ' in', ' row', ' 0', '?', ' column', ' 1', ' dog', ' dog', ' row', ' row', ' airplane', ' 1', ',', ',', ' deer', 'What', ' object', ' from', ' in', ' row', ' 0', ',', ' column', ' 1', ',', ' A', ' row', ' airplane', ' row', ' in', '<|endoftext|>', ',', ' deer', ' row', ' object', ' from', ' in', ' row', ' 0', ',', ',', ' column', ' 1', ',', ' row', ' deer', ' airplane', ' airplane', '<|endoftext|>', 'dog', '?', ' 1', ' airplane', ' airplane', '<|endoftext|>', '<|endoftext|>', 'What', ' 1', 'What', ' column', ' object', '?', '<|endoftext|>', '?', '?', ' object', ',', ' column', ' row', ' airplane', '?', 'What', ' row', '<|endoftext|>', '?', ' column', ' 0', ' row', ' object', '?', ' in', ' row', 'What', ' deer', '?', ' column', 'dog', ' 1', '?', '<|endoftext|>', ' in', ' row', ' dog', ' |', '<|endoftext|>', ' row', ' 1', '?', '?', ' column', ' column', 'horse'], ['What', ' airplane', ' airplane', ' airplane', 'airplane', 'airplane', ' airplane', 'The', 'airplane', 'airplane', 'airplane', ' airplane', ' airplane', 'airplane', ' airplane', ' dog', ' dog', ' airplane', ' airplane', ' airplane', ' airplane', ' airplane', ' truck', ' airplane', ' airplane', ' airplane', ' airplane', ' airplane', ' truck', ' airplane', '?', 'What', ' truck', ' airplane', ' airplane', ' airplane', ' airplane', ' airplane', '?', ' airplane', '?', ' row', ' airplane', ' airplane', ' airplane', ' airplane', ' airplane', ' airplane', ' airplane', ' airplane', ' dog', ' airplane', ' airplane', ' airplane', ' airplane', ' airplane', '?', '?', ' airplane', ' airplane', ' airplane', ' airplane', ' airplane', ' airplane', '?', 'What', ' airplane', ' dog', '?', ' truck', ' airplane', ' airplane', ' airplane', ' airplane', '?', ' airplane', ' airplane', ' airplane', ' airplane', ' airplane', ' airplane', ' dog', ' airplane', ' airplane', ' airplane', ' airplane', '?', ' airplane', '?', ' airplane', ' airplane', ' airplane', ' airplane', ' airplane', ' airplane', ' airplane', ' airplane', ' airplane', ' airplane', ' airplane', '?', 'What', ' airplane', ' airplane', ' airplane', ' airplane', ' airplane', ' airplane', ' airplane', ' truck', ' airplane', ' airplane', ' airplane', '?', '?', ' truck', ' airplane', ' airplane', ' airplane', ' airplane', '?', '?', ' deer', ' airplane', ' airplane', ' dog', ' dog', ' airplane', '?', ' airplane', ' airplane', '?', '?', ' airplane', ' airplane', '?', 'What', ' airplane', ' airplane', ' airplane', '?', '?', ' row', ' airplane', ' airplane', ' airplane', ' airplane', ' airplane', ' airplane', ' airplane', ' dog', ' airplane', '?', ' row', ' airplane', ' airplane', ' airplane', ' airplane', ' airplane', ' airplane', ' airplane', ' airplane', ' dog', ' airplane', ' airplane', ' airplane', ' airplane', ' airplane', ' airplane', ' airplane', '?', ' 1', ' column', ' airplane', ' in', ' airplane', '?', '?', ' airplane', '?', ',', ' airplane', '?', ' airplane', ' airplane', ' object', ' row', ' airplane', '?', '?', ' airplane', ' airplane', ' horse', '?', '?', 'dog', '?', ' airplane', ' airplane', '?', '?', 'dog', '?', '?', ' airplane', ' airplane', ' deer', ' airplane', '?', ' object', '?', ' in', ' row', ' 1', '?', ' column', ' 1', '?', ' airplane', ' column', ' airplane', ' airplane', '?', 'deer', ' frog', ' 1', ' row', ' object', '?', ' in', ' row', ' 1', '?', ' column', ' 1', '?', ' airplane', ' column', ' airplane', ' row', 'bird', '?', ' automobile', '?', ' row', ' object', '?', ' in', ' row', ' 1', '?', ' column', ' 1', ' airplane', ' dog', ' airplane', ' row', ' airplane', ' airplane', '?', ',', ' 1', ' row', ' object', '?', ' in', ' row', ' 1', '?', ' column', ' 1', '?', ' airplane', ' row', ' airplane', '?', 'bird', 'deer', ' deer', ' deer', ' row', ' object', ' from', ' in', ' row', ' 1', ',', '?', ' column', ' 1', '?', ' airplane', ' row', ' airplane', ' airplane', 'bird', 'bird', ' deer', ' 1', ' airplane', ' airplane', '<|endoftext|>', '<|endoftext|>', '?', ' 1', ' row', ' column', ' object', '?', '<|endoftext|>', '?', '?', ' object', '?', ' column', ' airplane', ' airplane', ' airplane', '?', ' airplane', '<|endoftext|>', '?', ' column', ' 1', ' row', ' object', '?', ' in', ' row', '?', ' column', '?', ' column', 'dog', \"',\", '?', '<|endoftext|>', ' in', ' row', ' airplane', ' |', '<|endoftext|>', ' row', ' 1', '?', '?', ' column', ' column', ' airplane'], ['What', '\\n', '\\n', 'What', '\\n', 'airplane', ' bird', '\\n', 'What', 'What', 'airplane', ' bird', 'airplane', 'airplane', 'airplane', \"'].\", \"'].\", 'airplane', ' airplane', 'bird', 'bird', 'bird', ' in', 'frog', ' airplane', 'bird', ' cell', ' cell', 'airplane', ' airplane', 'What', 'What', 'airplane', ' size', 'airplane', ' airplane', 'ship', 'bird', 'What', 'airplane', ' cell', ' cell', 'airplane', 'bird', 'bird', 'bird', ' airplane', 'bird', 'bird', 'bird', 'airplane', 'airplane', ' airplane', 'bird', 'airplane', 'airplane', 'bird', 'bird', 'cat', ' airplane', 'bird', 'bird', ' cell', ' airplane', 'What', 'What', 'bird', 'bird', ' cell', ' contains', ' airplane', 'airplane', 'bird', 'airplane', ' above', 'bird', 'bird', ' airplane', 'bird', 'bird', 'bird', 'airplane', 'airplane', ' airplane', 'bird', 'bird', ' cell', 'bird', ' cell', ' cell', ' cell', 'bird', 'bird', 'cat', ' airplane', 'bird', 'bird', 'bird', 'airplane', ' airplane', 'What', 'What', 'bird', 'bird', 'airplane', ' airplane', 'bird', 'bird', 'airplane', 'airplane', 'airplane', ' airplane', 'bird', ' cell', ' cell', 'airplane', ' airplane', 'bird', 'bird', ' cell', 'bird', ' cell', 'bird', ' airplane', ' size', 'bird', ' cell', ' size', 'bird', ' cell', 'airplane', ' cell', ' cell', 'bird', ' airplane', 'What', 'What', ' size', 'bird', 'airplane', ' above', 'bird', 'bird', ' airplane', 'bird', 'airplane', 'airplane', ' airplane', ' size', 'airplane', ' cell', 'airplane', 'bird', ' cell', ' cell', 'bird', 'bird', 'bird', ' airplane', ' size', 'bird', 'bird', 'airplane', 'airplane', ' airplane', 'bird', ' size', ' size', 'airplane', ' airplane', 'What', ' 1', ' above', ' is', ' size', ' 1', 'bird', ' cell', ' airplane', 'deer', 'cat', ' row', '?', ' contains', ' an', ' object', ' is', ' 2', 'truck', ' Each', 'bird', 'ship', 'ship', ' cell', \" '\", 'bird', 'bird', 'bird', 'bird', 'bird', '?', 'bird', 'cat', 'deer', 'bird', 'bird', 'deer', ' Each', 'What', ' object', ' from', ' size', ' row', ' 1', '?', ' column', ' 1', '?', ' A', ' Each', \"'].\", 'deer', 'deer', 'bird', ' size', 'deer', 'What', ' object', ' from', ' in', ' row', ' 2', '?', ' column', ' 1', '?', ' A', ':', ' airplane', 'deer', ' size', ' cell', ' size', 'deer', 'What', ' object', ' from', ' size', ' row', ' 2', '?', ' column', ' 1', 'deer', 'deer', ' A', ':', ' airplane', 'ship', ' cell', 'cat', ' cell', 'What', ' object', ' from', ' in', ' row', ' 2', ',', ' column', ' 2', ',', ' A', ':', ' airplane', 'cat', ' size', 'bird', 'deer', 'truck', 'What', ' object', ' from', ' in', ' row', ' 2', 'deer', 'bird', ' column', ' 1', ',', ' A', ':', ' airplane', 'deer', 'bird', 'deer', 'deer', 'deer', ' airplane', 'bird', 'bird', 'bird', 'What', ' 1', 'What', ' column', ' object', '?', '<|endoftext|>', '?', '?', ' object', '?', ' cell', ' Each', ' airplane', '\\n', 'What', ' Each', '<|endoftext|>', ' is', ' column', ' 2', ' row', ' object', '?', ' size', ' Each', 'What', \"'].\", \" '\", ' column', 'dog', \"',\", \" '\", '<|endoftext|>', ' in', ' Each', ' airplane', ' |', '<|endoftext|>', ' row', ' 2', \" '\", '?', ' column', ' column', 'bird'], ['What', 'frog', 'frog', 'What', ' in', ' 1', ' bird', '\\n', 'frog', 'frog', 'airplane', ' bird', 'airplane', 'airplane', 'frog', \"'].\", \"'].\", 'airplane', ' airplane', 'ship', 'frog', 'bird', 'airplane', 'frog', ' airplane', 'bird', ' cell', ' cell', 'airplane', ' airplane', 'What', 'What', 'airplane', \"',\", 'airplane', ' airplane', 'ship', 'bird', 'What', 'airplane', ' cell', ' cell', 'airplane', 'bird', 'bird', 'bird', ' airplane', 'bird', 'bird', 'bird', 'airplane', 'airplane', ' airplane', 'bird', 'airplane', 'airplane', 'bird', 'bird', 'bird', ' airplane', 'bird', 'bird', ' cell', ' airplane', 'What', 'What', 'bird', 'bird', ' cell', ' contains', ' airplane', 'airplane', 'bird', 'bird', 'bird', 'bird', 'bird', ' airplane', 'bird', 'bird', 'truck', 'airplane', 'airplane', ' airplane', 'bird', 'bird', ' cell', 'bird', 'bird', ' cell', ' cell', 'bird', 'bird', 'bird', ' airplane', 'bird', 'bird', 'bird', 'airplane', ' airplane', 'What', 'What', 'bird', 'ship', 'airplane', ' airplane', 'ship', 'bird', 'airplane', 'airplane', 'airplane', ' airplane', 'bird', ' cell', ' cell', 'airplane', ' airplane', 'bird', 'bird', 'bird', 'bird', 'bird', 'bird', ' airplane', 'bird', 'bird', ' cell', 'bird', 'bird', ' cell', 'airplane', 'bird', 'bird', 'bird', ' airplane', 'What', 'What', ' size', 'bird', 'bird', ' above', 'bird', 'cat', ' airplane', 'bird', 'airplane', 'bird', ' dog', 'bird', 'airplane', ' cell', 'airplane', ' cell', ' cell', 'bird', 'bird', 'bird', 'bird', ' airplane', 'bird', 'bird', 'bird', 'airplane', 'airplane', ' dog', 'bird', ' size', ' size', 'airplane', ' airplane', 'What', ' object', ' above', ' is', ' size', ' 1', 'bird', ' cell', ' 3', 'truck', 'cat', ' Each', '?', ' contains', ' an', ' object', ' from', ' 2', 'truck', ' contains', 'ship', 'bird', 'cat', ' cell', \" '\", 'dog', 'bird', 'ship', 'bird', 'bird', \" '\", 'truck', 'bird', 'deer', 'bird', 'bird', 'deer', ' Each', 'What', ' object', ' from', ' size', ' row', ' 1', '?', ' column', ' 1', '?', ' A', ':', 'bird', 'cat', 'bird', 'bird', ' size', 'deer', 'What', ' object', ' from', ' in', ' row', ' 2', '?', ' column', ' 1', '?', ' A', ':', ' dog', 'deer', 'bird', \"',\", ' size', 'deer', 'What', ' object', ' from', ' in', ' row', ' 1', '?', ' column', ' 1', 'deer', 'deer', ' A', ':', ' airplane', 'ship', ' cell', \"'].\", \"'].\", 'What', ' object', ' from', ' size', ' row', ' 1', ',', ' column', ' 1', ',', ' A', ':', ' airplane', \"'].\", ' size', 'deer', 'deer', 'deer', 'What', ' object', ' from', ' in', ' row', ' 2', 'deer', 'bird', ' column', ' 1', ',', ' A', ':', ' airplane', 'deer', 'bird', 'deer', 'truck', 'truck', ' airplane', 'bird', '<|endoftext|>', '<|endoftext|>', 'What', ' 1', 'What', ' column', ' object', '?', '<|endoftext|>', '?', '?', ' object', '?', ' cell', ' Each', ' dog', '\\n', 'What', ' Each', '<|endoftext|>', ' is', ' column', ' 1', ' row', ' object', '?', ' size', ' Each', 'What', \"'].\", \" '\", ' column', 'dog', \"',\", \" '\", '<|endoftext|>', ' size', ' Each', ' airplane', ' |', '<|endoftext|>', ' row', ' 2', \" '\", '|', ' column', ' column', ' is'], ['What', 'frog', '\\n', \"'].\", ' dog', ' 1', ' dog', '\\n', 'frog', ' bird', 'airplane', ' dog', 'airplane', 'airplane', 'airplane', \"'].\", \"'].\", 'airplane', ' dog', 'ship', 'bird', 'bird', 'bird', 'bird', ' dog', 'bird', ' cell', ' cell', 'airplane', ' dog', 'The', 'What', 'airplane', \"',\", 'airplane', ' dog', 'bird', 'bird', ' above', 'airplane', ' dog', ' cell', 'airplane', 'bird', 'bird', 'bird', ' dog', 'bird', 'bird', 'bird', 'bird', 'airplane', ' dog', 'bird', 'airplane', ' cell', 'bird', 'bird', 'bird', ' dog', 'bird', 'bird', ' cell', ' dog', 'What', 'What', 'bird', 'bird', ' cell', ' contains', ' dog', 'airplane', 'bird', 'bird', ' above', 'bird', 'bird', ' dog', 'bird', 'bird', 'bird', 'airplane', 'airplane', ' dog', 'bird', 'bird', ' cell', 'bird', ' cell', ' cell', ' cell', 'bird', 'bird', 'bird', ' dog', 'bird', 'bird', 'bird', 'airplane', ' dog', 'What', 'What', 'bird', 'bird', 'airplane', ' airplane', 'ship', 'bird', 'airplane', 'bird', 'airplane', ' airplane', 'ship', ' cell', ' cell', 'airplane', ' dog', 'bird', 'bird', 'bird', ' cell', 'bird', 'bird', ' dog', 'bird', 'bird', ' cell', 'bird', 'bird', ' cell', 'airplane', 'bird', 'bird', 'bird', ' dog', 'What', 'What', 'bird', 'bird', 'bird', ' above', 'bird', 'ship', ' dog', 'bird', 'airplane', 'airplane', ' dog', 'ship', 'airplane', ' cell', 'airplane', ' cell', ' cell', ' cell', 'bird', 'bird', 'bird', ' dog', 'bird', 'bird', 'bird', 'airplane', 'airplane', ' dog', 'bird', 'bird', 'bird', 'airplane', ' dog', 'What', ' object', ' above', ' is', ' size', ' 3', 'bird', ' cell', ' 3', \"'].\", \"'].\", ' Each', 'What', ' contains', ' an', ' object', ' is', ' 0', 'truck', ' contains', 'ship', 'bird', 'ship', ' cell', \" '\", 'ship', 'bird', 'ship', 'bird', ' cell', \" '\", 'truck', 'bird', 'deer', 'bird', 'bird', \"'].\", ' Each', 'What', ' object', ' is', ' size', ' row', ' 0', '?', ' column', ' 1', '?', ' A', ':', ' dog', \"'].\", 'bird', 'bird', ' size', 'deer', 'What', ' object', ' is', ' size', ' row', ' 1', '?', ' column', ' 0', '?', ' A', ':', ' dog', 'deer', 'bird', \"',\", ' size', 'deer', 'What', ' object', ' is', ' size', ' row', ' 1', '?', ' column', ' 2', 'deer', 'deer', ' A', ':', ' dog', 'bird', ' cell', \"'].\", \"'].\", 'What', ' object', ' from', ' size', ' row', ' 1', ',', ' column', ' 2', '?', ' A', ':', ' dog', \"'].\", \"',\", \"'].\", 'deer', 'deer', 'What', ' object', ' is', ' in', ' row', ' 2', 'deer', 'bird', ' column', ' 0', '?', ' A', ':', ' dog', 'bird', 'bird', 'deer', 'truck', 'truck', ' dog', 'bird', '<|endoftext|>', '<|endoftext|>', 'What', ' 2', 'What', ' column', ' object', '?', '<|endoftext|>', '?', '?', ' object', '?', ':', ' Each', ' dog', '\\n', 'What', ' Each', '<|endoftext|>', ' is', ' column', ' 2', ' row', ' object', '?', ' size', ' Each', 'What', \"'].\", \" '\", ' column', 'dog', \"'].\", \" '\", '<|endoftext|>', ' size', ' Each', ' dog', ' |', '<|endoftext|>', ' row', ' 2', \" '\", ' cell', ' column', ' column', ' is'], ['What', ' frog', ' 0', ' dog', ' dog', ' 2', ' dog', '\\n', 'frog', ' dog', 'airplane', ' dog', 'airplane', 'airplane', 'airplane', \"'].\", \"'].\", 'airplane', ' dog', 'ship', 'bird', 'bird', 'bird', 'bird', ' dog', 'bird', ' cell', ' cell', 'airplane', ' dog', 'The', 'What', 'airplane', \"',\", 'airplane', ' dog', 'ship', 'bird', ' dog', 'airplane', ' dog', ' cell', 'airplane', 'bird', 'bird', 'bird', ' dog', 'bird', 'bird', 'bird', 'bird', 'airplane', ' dog', \"',\", 'airplane', ' cell', ' cell', ' cell', 'bird', ' dog', 'bird', 'airplane', ' cell', ' dog', 'What', 'What', 'bird', \"'].\", ' cell', ' contains', ' dog', 'airplane', 'bird', 'bird', ' above', 'bird', 'bird', ' dog', 'bird', 'bird', 'bird', 'airplane', 'airplane', ' dog', 'bird', 'bird', ' cell', 'bird', ' cell', ' cell', ' cell', 'bird', 'bird', 'bird', ' dog', 'bird', 'bird', 'bird', 'airplane', ' dog', 'What', 'What', 'bird', 'ship', 'airplane', ' airplane', 'ship', ' 3', ' 3', ' above', 'airplane', ' airplane', 'ship', ' cell', ' cell', 'airplane', ' dog', 'bird', 'bird', ' cell', ' cell', ' cell', ' cell', ' dog', 'bird', 'bird', ' cell', 'airplane', ' cell', ' cell', 'airplane', ' cell', ' cell', 'bird', ' dog', 'What', 'What', ' size', 'bird', 'airplane', ' above', \"'].\", 'deer', ' dog', 'ship', 'airplane', \"',\", ' dog', 'ship', 'bird', ' cell', 'airplane', ' cell', ' cell', ' cell', 'bird', 'bird', 'bird', ' dog', 'bird', ' cell', 'bird', 'airplane', 'airplane', ' dog', 'bird', ' cell', ' cell', 'airplane', ' airplane', 'What', ' object', ' above', ' is', ' size', ' 3', 'deer', ' cell', ' 3', \"'].\", \"'].\", ' Each', ' cell', ' contains', ' an', ' object', ' is', \" ['\", 'truck', ' contains', 'ship', 'bird', 'ship', ' cell', \" '\", 'ship', ' cell', 'ship', 'bird', \"'].\", \" '\", 'truck', 'bird', \"'].\", \"'].\", 'bird', \"'].\", '\\n', 'What', ' object', ' is', ' size', ' row', ' 0', '?', ' column', ' 0', '?', ' A', ':', \"'].\", \"'].\", 'bird', 'bird', ' size', 'deer', 'What', ' object', ' is', ' size', ' row', ' 1', '?', ' column', ' 0', '?', ' A', ':', ' dog', 'deer', \"'].\", '<|endoftext|>', ' size', 'deer', 'What', ' object', ' is', ' size', ' row', ' 1', '?', ' column', ' 2', 'deer', 'deer', ' A', ':', ' dog', 'bird', \"'].\", \"'].\", \"'].\", 'What', ' object', ' is', ' in', ' row', ' 1', ',', ' column', ' 2', '?', ' A', ':', ' dog', \"'].\", \"'].\", \"'].\", 'deer', 'deer', 'What', ' object', ' is', ' in', ' row', ' 2', 'deer', ' cell', ' column', ' 0', '?', ' A', ':', ' ship', 'deer', 'bird', \"'].\", 'ship', 'deer', ' dog', 'bird', '<|endoftext|>', '<|endoftext|>', 'What', ' 2', 'What', ' column', ' object', '?', '<|endoftext|>', '?', '?', ' object', '?', ':', ' |', ' dog', '\\n', 'What', ' Each', '<|endoftext|>', ' is', ' column', ' 2', ' row', ' object', '?', ' size', ' Each', 'What', \"'].\", \" '\", ' column', 'dog', \"'].\", \" '\", '<|endoftext|>', ' in', ' Each', ' dog', ',', '<|endoftext|>', ' row', ' 2', \" '\", ' cell', ' column', ' column', ' is'], [' bird', ' |', ' |', ' dog', ' dog', ' dog', ' dog', '\\n', '\\n', ' |', 'airplane', ' dog', 'airplane', 'airplane', 'airplane', \"'].\", \"'].\", 'airplane', ' bird', \"'].\", 'bird', 'bird', 'bird', 'bird', ' dog', 'bird', ' cell', ' cell', 'airplane', ' dog', 'The', 'What', ' size', \"',\", ' cell', ' dog', 'bird', 'bird', ' dog', ' cell', ' dog', ' cell', ' cell', 'bird', \"'].\", 'bird', ' dog', 'bird', 'bird', 'bird', 'bird', 'bird', ' dog', \"',\", 'airplane', ' cell', ' cell', ' cell', 'bird', ' dog', 'bird', 'bird', ' cell', ' dog', 'What', 'What', 'bird', \"'].\", ' cell', ' cell', ' dog', ' size', 'bird', 'bird', ' cell', 'bird', 'bird', ' dog', 'bird', 'bird', 'bird', 'airplane', 'bird', ' dog', 'bird', 'bird', ' cell', 'bird', \"'].\", ' cell', ' cell', 'bird', 'bird', 'bird', ' dog', 'bird', 'bird', 'bird', 'airplane', ' dog', 'What', 'What', 'bird', 'bird', \"'].\", ' airplane', 'deer', ' 3', ' 3', ' above', ' cell', ' airplane', 'bird', ' cell', ' cell', 'airplane', ' dog', 'bird', 'bird', ' cell', ' cell', ' cell', ' cell', ' dog', 'bird', 'bird', ' cell', 'bird', \"'].\", ' cell', 'bird', ' cell', \"'].\", \"'].\", ' dog', 'What', 'What', 'bird', 'bird', 'bird', \"'].\", \"'].\", \"'].\", ' dog', 'bird', ' size', ' cell', ' dog', \"'].\", 'bird', ' cell', 'airplane', ' cell', ' cell', ' cell', 'bird', 'bird', 'bird', ' dog', 'bird', ' cell', 'bird', 'bird', 'bird', ' dog', 'bird', ' cell', ' cell', 'airplane', ' airplane', 'What', ' object', ' above', ' is', ' size', ' 3', \"'].\", \"'].\", ' 3', \"'].\", \"'].\", ' Each', ' cell', ' contains', ' an', ' object', ' is', \" ['\", 'truck', ' contains', \"'].\", 'bird', 'bird', ' cell', \" '\", 'ship', ' cell', \"'].\", 'bird', \"'].\", \" '\", 'truck', 'bird', \"'].\", \"'].\", \"'].\", \"'].\", '\\n', 'What', ' object', ' is', ' size', ' row', ' 0', '?', ' column', ' 0', '?', ' A', ':', \"'].\", \"'].\", \"'].\", 'bird', ' size', 'deer', 'What', ' object', ' is', ' size', ' row', ' 1', '?', ' column', ' 2', '?', ' A', ':', ' dog', 'deer', \"'].\", '<|endoftext|>', ' in', ' in', 'What', ' object', ' is', ' size', ' row', ' 1', '?', ' column', ' 2', \"'].\", ':', ' A', ':', ' dog', \"'].\", \"'].\", \"'].\", \"'].\", 'What', ' object', ' is', ' in', ' row', ' 1', '?', ' column', ' 2', '?', ' A', ':', ' dog', \"'].\", \"'].\", \"'].\", 'deer', 'deer', 'What', ' object', ' is', ' in', ' row', ' 0', 'deer', ' cell', ' column', ' 0', '?', ' A', ':', ' ship', 'deer', 'bird', \"'].\", 'cat', 'cat', ' dog', '<|endoftext|>', '<|endoftext|>', '<|endoftext|>', 'What', ' 0', 'What', ' column', ' object', '?', '<|endoftext|>', '?', '?', ' object', '?', ':', ' |', ' dog', '<|endoftext|>', 'What', ' Each', '<|endoftext|>', ' is', ' column', ' 0', ' row', ' object', '?', ' size', ' Each', 'What', ':', \" '\", ' column', 'dog', \"'].\", \" '\", '<|endoftext|>', ' in', ' Each', ' dog', ' |', '<|endoftext|>', ' row', ' 2', \" '\", ' cell', ' column', ' column', ' is'], [' bird', ' |', ' |', ' dog', ' dog', '\\n', '\\n', '\\n', ' |', ' |', 'airplane', ' dog', 'airplane', 'airplane', ' |', \"'].\", \"'].\", 'airplane', ' bird', \"'].\", 'bird', 'bird', 'bird', 'bird', ' dog', 'bird', ' cell', ' cell', 'airplane', ' dog', 'The', 'What', 'ship', \"',\", ' cell', ' dog', 'bird', 'bird', ' dog', ' cell', ' dog', ' cell', ' cell', ' cell', \"'].\", 'bird', ' dog', 'bird', 'bird', 'bird', \"',\", ' cell', ' dog', \"',\", ' size', ' cell', \"'].\", \"'].\", ' contains', ' dog', ' cell', 'bird', ' cell', ' dog', 'What', 'What', ' cell', \"'].\", ' cell', ' cell', ' dog', ' size', 'bird', 'bird', ' cell', \"'].\", \"'].\", ' dog', 'bird', 'bird', 'bird', 'airplane', ' cell', ' dog', 'bird', 'bird', ' cell', ' cell', \"'].\", ' cell', ' cell', 'bird', \"'].\", \"'].\", ' dog', 'bird', 'bird', 'bird', 'airplane', ' dog', 'What', 'What', 'bird', \"'].\", \"'].\", ' dog', ' 3', ' 3', ' 3', ' above', ' cell', ' airplane', 'bird', ' cell', ' cell', 'airplane', ' dog', 'bird', 'bird', ' cell', ' cell', ' cell', ' cell', ' dog', 'bird', 'bird', ' cell', ' cell', \"'].\", ' cell', 'airplane', \"'].\", \"'].\", \"'].\", ' dog', 'What', 'What', 'bird', 'bird', \"'].\", \"'].\", \"'].\", \"'].\", ' dog', ' 3', \"',\", \"',\", ' dog', \"'].\", 'bird', ' cell', 'airplane', ' cell', ' cell', ' cell', 'bird', 'bird', \"'].\", ' dog', 'bird', ' cell', 'bird', 'bird', ' cell', ' dog', ' cell', \"'].\", \"'].\", 'airplane', ' airplane', 'What', ' object', ' above', ' is', ' size', ' 3', \"'].\", \"'].\", ' 3', \"'].\", \"'].\", ' Each', ' cell', ' contains', ' an', ' object', ' is', \" ['\", 'truck', \"',\", \"'].\", 'bird', 'ship', ' cell', \" '\", 'ship', \"'].\", \"'].\", 'bird', \"'].\", \" '\", 'truck', \"'].\", \"'].\", \"'].\", \"'].\", \"'].\", '\\n', 'What', ' object', ' is', ' size', ' row', ' 0', '?', ' column', ' 0', '?', ' A', ':', \"'].\", \"'].\", \"'].\", 'bird', ' size', 'deer', 'What', ' object', ' is', ' in', ' row', ' 0', '?', ' column', ' 2', '?', ' A', ':', ' dog', 'deer', \"'].\", '<|endoftext|>', ' in', ' in', 'What', ' object', ' is', ' in', ' row', ' 0', '?', ' column', ' 2', \"'].\", ':', ' A', ':', ' dog', '<|endoftext|>', \"'].\", \"'].\", \"'].\", 'What', ' object', ' is', ' in', ' row', ' 0', ',', ' column', ' 2', '?', ' A', ':', ' dog', \"'].\", \"'].\", \"'].\", 'deer', 'deer', 'What', ' object', ' is', ' in', ' row', ' 0', 'deer', ' cell', ' column', ' 0', '?', ' A', ':', ' ship', 'deer', 'bird', \"'].\", 'cat', 'deer', ' dog', '<|endoftext|>', '<|endoftext|>', '<|endoftext|>', 'What', ' 0', 'What', ' column', ' object', '?', '<|endoftext|>', '?', ' cell', ' object', '.', ':', ' |', ' dog', '<|endoftext|>', 'What', ' Each', '<|endoftext|>', ' is', ' column', ' 0', ' row', ' object', '?', ' in', ' Each', 'What', ':', \" '\", ' column', 'dog', \"'].\", \" '\", '<|endoftext|>', ' in', ' Each', ' dog', '<|endoftext|>', '<|endoftext|>', ' row', ' 2', \" '\", ' cell', ' column', ' column', ' is'], [' bird', ' |', ' |', ' |', ' dog', ' |', '\\n', '\\n', ' |', ' |', ' |', ' dog', ' |', ' |', ' |', \"'].\", \"'].\", 'airplane', ' bird', '|', 'bird', 'bird', 'bird', 'bird', ' dog', 'bird', ' cell', ' cell', ' by', ' dog', 'The', 'What', 'ship', \"',\", ' |', ' dog', ' by', 'bird', ' dog', ' cell', ' dog', ' cell', ' cell', \"'].\", \"'].\", 'bird', ' dog', ' 3', \"',\", 'bird', ' cell', ' cell', ' dog', \"',\", ' size', ' cell', \"'].\", \"'].\", ' contains', ' dog', ' cell', 'bird', ' cell', ' dog', 'What', 'What', ' cell', \"'].\", ' cell', ' cell', ' dog', ' size', '\\n', 'bird', ' cell', \"'].\", \"'].\", ' dog', 'bird', ' 3', ' 3', 'airplane', ' cell', ' dog', 'bird', ' 3', ' cell', ' cell', \"'].\", ' cell', ' cell', 'bird', \"'].\", \"'].\", ' dog', 'bird', ' cell', ' cell', 'airplane', ' dog', 'What', 'What', 'bird', 'deer', ' cell', ' dog', ' 3', ' 3', ' 3', ' above', ' cell', ' airplane', 'ship', ' cell', ' cell', 'airplane', ' dog', 'bird', 'bird', ' cell', \"'].\", ' cell', ' cell', ' dog', \"',\", 'bird', ' cell', 'deer', \"'].\", ' cell', 'airplane', ' cell', \"'].\", \"'].\", ' dog', 'What', 'What', 'bird', 'bird', \"'].\", ' above', \"'].\", \"'].\", ' dog', ' 3', ' size', \"',\", ' dog', \"'].\", 'bird', ' cell', ' cell', ' cell', ' cell', ' cell', \"'].\", \"'].\", \"'].\", ' dog', \"'].\", ' cell', 'bird', 'bird', ' cell', ' dog', ' cell', \"'].\", \"'].\", 'airplane', ' airplane', 'What', ' object', ' above', ' is', ' size', ' 3', \"'].\", \"'].\", ' 3', \"'].\", \"'].\", ' Each', ' cell', ' contains', ' an', ' object', ' is', \" ['\", 'truck', ' cell', \"'].\", 'bird', \"',\", ' cell', \" '\", 'ship', \"'].\", \"'].\", 'bird', \"'].\", \" '\", 'truck', \"'].\", \"',\", \"'].\", \"'].\", \"'].\", '\\n', 'What', ' object', ' is', ' size', ' row', ' 0', '?', ' column', ' 0', '?', ' A', ':', \"'].\", \"'].\", \"'].\", 'bird', ' size', 'deer', 'What', ' object', ' is', ' in', ' row', ' 1', ',', ' column', ' 2', '?', ' A', ':', ' dog', 'deer', '<|endoftext|>', '<|endoftext|>', ' in', ' in', 'What', ' object', ' is', ' in', ' row', ' 0', ',', ' column', ' 2', \"'].\", '?', ' A', ':', ' dog', '<|endoftext|>', \"'].\", \"'].\", \"'].\", 'What', ' object', ' is', ' in', ' row', ' 1', ',', ' column', ' 0', '?', ' A', ':', ' dog', \"'].\", '<|endoftext|>', '<|endoftext|>', 'deer', 'deer', 'What', ' object', ' is', ' in', ' row', ' 0', 'deer', ' cell', ' column', ' 0', '.', ' A', ':', ' ship', 'deer', 'bird', \"'].\", 'cat', ':', ' dog', '<|endoftext|>', '<|endoftext|>', '<|endoftext|>', 'What', ' 0', 'What', ' column', ' object', '?', '<|endoftext|>', '?', ' cell', ' object', '.', ':', '\\n', ' dog', '<|endoftext|>', 'What', '\\n', '<|endoftext|>', ' is', ' column', ' 2', ' row', ' object', '?', ' in', ' Each', 'What', ':', \" '\", ' column', 'dog', \"'].\", \" '\", '<|endoftext|>', ' in', '<|endoftext|>', ' dog', '<|endoftext|>', '<|endoftext|>', ' row', ' 0', \" '\", 'What', ' column', ' column', ' is'], [' bird', ' |', ' |', ' |', ' |', ' |', '\\n', ' |', ' |', ' |', ' |', ' dog', ' |', ' |', ' |', ' |', ' |', ' |', ' bird', '|', 'bird', 'bird', 'bird', 'bird', ' dog', ' |', ' cell', ' cell', ' |', ' dog', '|', ' dog', ' |', ' |', ' cell', ' dog', 'bird', 'bird', ' |', ' cell', \"'].\", ' cell', ' cell', ' cell', \"'].\", 'bird', ' dog', 'bird', \"',\", 'bird', ' cell', ' cell', ' dog', \"',\", ' size', ' cell', \"'].\", ' cell', ' contains', ' dog', ' cell', 'bird', ' cell', '\\n', 'What', 'What', ' cell', \"'].\", ' cell', ' cell', ' dog', \"'].\", '\\n', ' cell', ' cell', \"'].\", \"'].\", ' dog', 'bird', ' 3', ' cell', 'airplane', ' cell', ' dog', \"'].\", ' 3', ' cell', ' cell', \"'].\", ' cell', ' cell', 'bird', \"'].\", \"'].\", ' dog', 'bird', \"'].\", ' cell', ' cell', ' dog', 'The', 'What', 'bird', 'deer', ' cell', '\\n', ' 3', \"'].\", ' 3', \"'].\", ' cell', ' airplane', ' cell', ' cell', ' cell', ' cell', ' dog', 'bird', 'bird', ' cell', \"'].\", ' cell', ' cell', ' dog', \"'].\", ' cell', ' cell', ' cell', \"'].\", ' cell', 'airplane', \"'].\", \"'].\", \"'].\", ' dog', 'What', 'What', 'bird', 'bird', \"'].\", \"'].\", \"'].\", \"'].\", '\\n', \"'].\", \"',\", ' |', ' dog', \"'].\", ' Each', ' cell', ' cell', \"'].\", ' cell', ' cell', \"'].\", \"'].\", \"'].\", ' dog', \"'].\", ' cell', 'bird', ' cell', ' cell', ' dog', ' cell', \"'].\", ' cell', ' cell', ' airplane', 'What', ' object', ' above', ' is', ' in', ' 3', \"'].\", \"'].\", ' 3', \"'].\", \"'].\", ' Each', ' cell', ' contains', ' an', ' object', ' is', \" ['\", 'truck', ' contains', \"'].\", 'bird', ' contains', \"'].\", \" '\", 'ship', \"'].\", \"'].\", \"'].\", \"'].\", \" '\", 'truck', \"'].\", \"'].\", \"'].\", \"'].\", \"'].\", '\\n', 'What', ' object', ' is', ' in', ' row', ' 0', ',', ' column', ' 0', '?', ' A', ':', \"'].\", \"'].\", \"'].\", \"'].\", \"'].\", 'deer', 'What', ' object', ' is', ' in', ' row', ' 1', ',', ' column', ' 0', '?', ' A', ':', ' dog', '\\n', '<|endoftext|>', '<|endoftext|>', ' in', ' in', 'What', ' object', ' is', ' in', ' row', ' 1', ',', ' column', ' 2', \"'].\", '?', ' A', ':', ' dog', '<|endoftext|>', \"'].\", \"'].\", \"'].\", 'What', ' object', ' is', ' in', ' row', ' 1', ',', ' column', ' 0', '?', ' A', ':', ' dog', \"'].\", '<|endoftext|>', '<|endoftext|>', 'deer', '<|endoftext|>', 'What', ' object', ' is', ' in', ' row', ' 0', \"'].\", '<|endoftext|>', ' column', ' 0', '.', ' A', ':', ' ship', '\\n', '\\n', \"'].\", \"'].\", ':', ' dog', '\\n', '<|endoftext|>', '<|endoftext|>', 'What', ' 0', 'What', ' column', ' object', '?', '<|endoftext|>', '?', '?', ' object', '.', ':', '\\n', '\\n', '\\n', 'What', '\\n', '<|endoftext|>', ' is', ' column', ' 2', ' row', ' object', '?', ' in', ' Each', 'What', ':', \" '\", ' column', 'dog', \"'].\", \" '\", '<|endoftext|>', ' in', '<|endoftext|>', ' dog', '<|endoftext|>', '<|endoftext|>', ' row', ' 0', \" '\", 'What', ' column', ' column', ' is'], [' bird', ' |', ' |', ' |', ' |', ' |', '\\n', ' |', ' |', ' |', ' |', ' dog', ' |', ' |', ' |', ' |', ' |', ' |', ' dog', '|', ' |', 'bird', ' |', ' |', ' dog', ' |', ' cell', ' cell', ' |', '\\n', 'The', ' dog', ' |', ' |', ' |', ' dog', ' by', ' |', ' |', ' cell', ' cell', ' cell', ' cell', ' cell', \"'].\", ' cell', ' dog', ' 3', ' 3', ' cell', ' cell', 'automobile', ' dog', \"',\", ' size', ' cell', \"'].\", ' cell', ' cell', ' dog', ' cell', ' 3', ' cell', '\\n', 'What', ' dog', ' cell', \"'].\", ' cell', ' cell', ' dog', \"'].\", '\\n', ' cell', ' cell', ' cell', \"'].\", ' dog', \"'].\", ' 3', ' cell', ' cell', ' cell', ' dog', \"'].\", ' 3', ' cell', ' cell', \"'].\", ' cell', ' cell', 'bird', ' cell', \"'].\", '\\n', 'bird', \"'].\", ' cell', 'airplane', ' dog', 'The', 'What', 'bird', ' |', ' cell', '\\n', ' 3', \"'].\", \"'].\", ' above', ' cell', ' airplane', ' cell', ' cell', ' cell', ' Each', ' dog', 'bird', 'bird', ' cell', ' cell', ' cell', ' cell', ' dog', \"'].\", ' cell', ' cell', ' cell', \"'].\", ' cell', ' |', \"'].\", \"'].\", \"'].\", ' dog', 'The', 'What', 'bird', 'bird', ' cell', ' above', \"'].\", \"'].\", '\\n', ' 3', ' 3', ' |', ' dog', \"'].\", ' Each', ' cell', ' cell', \"'].\", ' cell', ' cell', \"'].\", \"'].\", \"'].\", ' dog', \"'].\", ' cell', 'bird', ' cell', ' cell', ' dog', ' cell', \"'].\", ' cell', ' cell', ' airplane', 'What', ' grid', ' above', ' is', ' size', ' 3', \"'].\", \"'].\", ' 3', \"'].\", 'automobile', ' Each', ' cell', ' contains', ' an', ' object', ' is', \" ['\", 'automobile', \"'].\", \"',\", 'deer', \"',\", ' cell', \" '\", 'ship', \"'].\", \"'].\", \"'].\", \"'].\", \" '\", 'cat', \"'].\", \"'].\", \"'].\", \"'].\", \"'].\", '\\n', 'The', ' object', ' is', ' in', ' row', ' 0', ',', ' column', ' 0', '?', ' A', ':', \"'].\", \"'].\", \"'].\", \"'].\", ' Each', \"'].\", 'What', ' object', ' is', ' in', ' row', ' 1', ',', ' column', ' 1', '?', ' A', ':', ' dog', '\\n', '<|endoftext|>', '<|endoftext|>', ' in', ' in', 'What', ' object', ' is', ' in', ' row', ' 1', ',', ' column', ' 2', ' in', '?', ' A', ':', ' dog', '<|endoftext|>', \"'].\", \"'].\", \"'].\", 'What', ' object', ' is', ' in', ' row', ' 1', ',', ' column', ' 1', '?', ' A', ':', ' dog', \"'].\", '<|endoftext|>', '<|endoftext|>', 'deer', '<|endoftext|>', 'What', ' object', ' is', ' in', ' row', ' 2', ' cell', '<|endoftext|>', ' column', ' 0', '?', ' A', ':', ' ship', '<|endoftext|>', '<|endoftext|>', '<|endoftext|>', \"'].\", ':', ' dog', '<|endoftext|>', '<|endoftext|>', '<|endoftext|>', 'What', ' 0', 'What', ' column', ' object', ',', '<|endoftext|>', '?', 'What', ' object', '?', ':', '\\n', ' dog', '\\n', 'What', '\\n', '<|endoftext|>', ' is', ' column', ' 2', ' row', ' object', '?', ' in', ' Each', 'What', ':', \" '\", ' column', 'bird', \"'].\", \" '\", '<|endoftext|>', ' in', '<|endoftext|>', ' dog', '<|endoftext|>', '<|endoftext|>', ' row', ' 0', \" '\", 'What', ' column', ' column', ' is'], [' deer', ' |', ' |', ' |', ' |', ' |', '\\n', ' |', ' |', ' |', ' |', ' dog', ' |', ' |', ' |', ' |', ' |', ' |', ' dog', ' |', ' |', ' |', ' |', ' |', ' dog', ' |', ' cell', ' cell', ' |', '\\n', '|', ' dog', ' |', ' |', ' |', ' dog', ' |', ' |', ' |', ' cell', ' cell', ' cell', ' |', ' cell', \"'].\", ' cell', ' dog', ' 3', ' cell', ' cell', ' cell', 'automobile', ' dog', \"',\", ' |', ' cell', \"'].\", ' cell', ' cell', ' dog', ' cell', ' |', ' cell', '\\n', 'What', ' dog', ' cell', ' bird', ' |', ' |', ' dog', ' 3', '\\n', '\\n', ' cell', '\\n', '\\n', ' dog', \"'].\", ' 3', ' cell', 'airplane', '\\n', ' dog', \"'].\", ' |', ' cell', ' cell', \"'].\", ' cell', ' cell', ' cell', ' cell', \"'].\", '\\n', 'bird', \"'].\", ' cell', 'airplane', ' dog', 'What', ' dog', 'bird', ' |', ' cell', '\\n', ' 3', '\\n', '\\n', ' Each', ' cell', ' airplane', '\\n', '\\n', '\\n', '\\n', ' dog', 'bird', 'bird', \"',\", ' cell', ' cell', ' cell', ' dog', \"'].\", ' cell', ' above', \"'].\", \"'].\", ' cell', ' |', ' cell', \"'].\", \"',\", ' dog', 'What', 'What', ' |', 'bird', ' 3', ' above', \"'].\", '\\n', '\\n', ' 3', ' 3', ' |', ' dog', \"'].\", '\\n', ' above', '\\n', ' cell', ' cell', ' cell', \"'].\", \"'].\", \"'].\", ' dog', \"'].\", \"'].\", ' |', ' cell', ' cell', ' dog', \"'].\", \"'].\", \"'].\", ' |', ' airplane', 'What', ' grid', ' above', ' is', ' in', ' 3', \"'].\", \"'].\", '\\n', \"'].\", ' cell', ' Each', ' cell', ' contains', ' an', ' object', ' is', \" ['\", 'automobile', \"',\", \"',\", 'deer', \"',\", \"'].\", \" '\", 'ship', \"'].\", \"'].\", \"'].\", \"'].\", \" '\", 'bird', \"'].\", \"'].\", \"'].\", \"'].\", \"'].\", '\\n', 'What', ' object', ' is', ' in', ' row', ' 0', ',', ' column', ' 0', '?', ' A', ':', \"'].\", \"'].\", '\\n', '\\n', \"'].\", \"'].\", 'What', ' object', ' is', ' in', ' row', ' 1', ',', ' column', ' 1', '?', ' A', ':', ' dog', '\\n', '<|endoftext|>', '<|endoftext|>', ' in', ' in', 'What', ' object', ' is', ' in', ' row', ' 1', ',', ' column', ' 2', '<|endoftext|>', ' A', ' A', ':', ' dog', '<|endoftext|>', \"'].\", \"'].\", \"'].\", 'What', ' object', ' is', ' in', ' row', ' 1', ',', ' column', ' 1', '?', ' A', ':', ' dog', \"'].\", '<|endoftext|>', '<|endoftext|>', '<|endoftext|>', '<|endoftext|>', 'What', ' object', ' is', ' in', ' row', ' 2', '?', '<|endoftext|>', ' column', ' 0', '?', ' A', ':', ' ship', '\\n', '\\n', '<|endoftext|>', \"'].\", ':', ' dog', '<|endoftext|>', '<|endoftext|>', '<|endoftext|>', 'What', ' 0', 'What', ' column', ' object', ',', '<|endoftext|>', '?', 'What', ' object', '?', ':', '\\n', '\\n', '\\n', 'What', '\\n', '<|endoftext|>', ' is', ' column', ' 2', ' row', ' object', ',', ' in', ' Each', 'What', ':', \" '\", ' column', 'bird', \"',\", \" '\", '<|endoftext|>', ' in', '<|endoftext|>', ' dog', '<|endoftext|>', '<|endoftext|>', ' row', ' 0', \" '\", ',', ' column', ' column', ' is']]\n"
     ]
    }
   ],
   "source": [
    "print(words)"
   ]
  },
  {
   "cell_type": "code",
   "execution_count": 61,
   "metadata": {},
   "outputs": [
    {
     "name": "stdout",
     "output_type": "stream",
     "text": [
      "349\n"
     ]
    }
   ],
   "source": [
    "print(len(words[0]))"
   ]
  },
  {
   "cell_type": "code",
   "execution_count": null,
   "metadata": {},
   "outputs": [
    {
     "ename": "IndexError",
     "evalue": "list index out of range",
     "output_type": "error",
     "traceback": [
      "\u001b[0;31m---------------------------------------------------------------------------\u001b[0m",
      "\u001b[0;31mIndexError\u001b[0m                                Traceback (most recent call last)",
      "Cell \u001b[0;32mIn[66], line 1\u001b[0m\n\u001b[0;32m----> 1\u001b[0m \u001b[38;5;28mprint\u001b[39m(\u001b[38;5;28mlen\u001b[39m(\u001b[43minput_words\u001b[49m\u001b[43m[\u001b[49m\u001b[38;5;241;43m2\u001b[39;49m\u001b[43m]\u001b[49m))\n",
      "\u001b[0;31mIndexError\u001b[0m: list index out of range"
     ]
    }
   ],
   "source": []
  },
  {
   "cell_type": "code",
   "execution_count": 55,
   "metadata": {},
   "outputs": [
    {
     "ename": "ValueError",
     "evalue": "The length of the x vector must match the length of the second dimension of the img matrix.",
     "output_type": "error",
     "traceback": [
      "\u001b[0;31m---------------------------------------------------------------------------\u001b[0m",
      "\u001b[0;31mValueError\u001b[0m                                Traceback (most recent call last)",
      "Cell \u001b[0;32mIn[55], line 5\u001b[0m\n\u001b[1;32m      2\u001b[0m \u001b[38;5;28;01mimport\u001b[39;00m \u001b[38;5;21;01mplotly\u001b[39;00m\u001b[38;5;21;01m.\u001b[39;00m\u001b[38;5;21;01mio\u001b[39;00m \u001b[38;5;28;01mas\u001b[39;00m \u001b[38;5;21;01mpio\u001b[39;00m\n\u001b[1;32m      3\u001b[0m pio\u001b[38;5;241m.\u001b[39mrenderers\u001b[38;5;241m.\u001b[39mdefault \u001b[38;5;241m=\u001b[39m \u001b[38;5;124m\"\u001b[39m\u001b[38;5;124mplotly_mimetype+notebook_connected+colab+notebook\u001b[39m\u001b[38;5;124m\"\u001b[39m\n\u001b[0;32m----> 5\u001b[0m fig \u001b[38;5;241m=\u001b[39m \u001b[43mpx\u001b[49m\u001b[38;5;241;43m.\u001b[39;49m\u001b[43mimshow\u001b[49m\u001b[43m(\u001b[49m\n\u001b[1;32m      6\u001b[0m \u001b[43m    \u001b[49m\u001b[43mmax_probs\u001b[49m\u001b[38;5;241;43m.\u001b[39;49m\u001b[43mdetach\u001b[49m\u001b[43m(\u001b[49m\u001b[43m)\u001b[49m\u001b[38;5;241;43m.\u001b[39;49m\u001b[43mcpu\u001b[49m\u001b[43m(\u001b[49m\u001b[43m)\u001b[49m\u001b[38;5;241;43m.\u001b[39;49m\u001b[43mnumpy\u001b[49m\u001b[43m(\u001b[49m\u001b[43m)\u001b[49m\u001b[43m,\u001b[49m\n\u001b[1;32m      7\u001b[0m \u001b[43m    \u001b[49m\u001b[43mx\u001b[49m\u001b[38;5;241;43m=\u001b[39;49m\u001b[43minput_words\u001b[49m\u001b[43m,\u001b[49m\n\u001b[1;32m      8\u001b[0m \u001b[43m    \u001b[49m\u001b[43my\u001b[49m\u001b[38;5;241;43m=\u001b[39;49m\u001b[38;5;28;43mlist\u001b[39;49m\u001b[43m(\u001b[49m\u001b[38;5;28;43mrange\u001b[39;49m\u001b[43m(\u001b[49m\u001b[38;5;28;43mlen\u001b[39;49m\u001b[43m(\u001b[49m\u001b[43mwords\u001b[49m\u001b[43m)\u001b[49m\u001b[43m)\u001b[49m\u001b[43m)\u001b[49m\u001b[43m,\u001b[49m\n\u001b[1;32m      9\u001b[0m \u001b[43m    \u001b[49m\u001b[43mcolor_continuous_scale\u001b[49m\u001b[38;5;241;43m=\u001b[39;49m\u001b[43mpx\u001b[49m\u001b[38;5;241;43m.\u001b[39;49m\u001b[43mcolors\u001b[49m\u001b[38;5;241;43m.\u001b[39;49m\u001b[43mdiverging\u001b[49m\u001b[38;5;241;43m.\u001b[39;49m\u001b[43mRdYlBu_r\u001b[49m\u001b[43m,\u001b[49m\n\u001b[1;32m     10\u001b[0m \u001b[43m    \u001b[49m\u001b[43mcolor_continuous_midpoint\u001b[49m\u001b[38;5;241;43m=\u001b[39;49m\u001b[38;5;241;43m0.50\u001b[39;49m\u001b[43m,\u001b[49m\n\u001b[1;32m     11\u001b[0m \u001b[43m    \u001b[49m\u001b[43mtext_auto\u001b[49m\u001b[38;5;241;43m=\u001b[39;49m\u001b[38;5;28;43;01mTrue\u001b[39;49;00m\u001b[43m,\u001b[49m\n\u001b[1;32m     12\u001b[0m \u001b[43m    \u001b[49m\u001b[43mlabels\u001b[49m\u001b[38;5;241;43m=\u001b[39;49m\u001b[38;5;28;43mdict\u001b[39;49m\u001b[43m(\u001b[49m\u001b[43mx\u001b[49m\u001b[38;5;241;43m=\u001b[39;49m\u001b[38;5;124;43m\"\u001b[39;49m\u001b[38;5;124;43mInput Tokens\u001b[39;49m\u001b[38;5;124;43m\"\u001b[39;49m\u001b[43m,\u001b[49m\u001b[43m \u001b[49m\u001b[43my\u001b[49m\u001b[38;5;241;43m=\u001b[39;49m\u001b[38;5;124;43m\"\u001b[39;49m\u001b[38;5;124;43mLayers\u001b[39;49m\u001b[38;5;124;43m\"\u001b[39;49m\u001b[43m,\u001b[49m\u001b[43m \u001b[49m\u001b[43mcolor\u001b[49m\u001b[38;5;241;43m=\u001b[39;49m\u001b[38;5;124;43m\"\u001b[39;49m\u001b[38;5;124;43mProbability\u001b[39;49m\u001b[38;5;124;43m\"\u001b[39;49m\u001b[43m)\u001b[49m\n\u001b[1;32m     13\u001b[0m \u001b[43m)\u001b[49m\n\u001b[1;32m     15\u001b[0m fig\u001b[38;5;241m.\u001b[39mupdate_layout(\n\u001b[1;32m     16\u001b[0m     title\u001b[38;5;241m=\u001b[39m\u001b[38;5;124m'\u001b[39m\u001b[38;5;124mLogit Lens Visualization\u001b[39m\u001b[38;5;124m'\u001b[39m,\n\u001b[1;32m     17\u001b[0m     xaxis_tickangle\u001b[38;5;241m=\u001b[39m\u001b[38;5;241m0\u001b[39m\n\u001b[1;32m     18\u001b[0m )\n\u001b[1;32m     20\u001b[0m fig\u001b[38;5;241m.\u001b[39mupdate_traces(text\u001b[38;5;241m=\u001b[39mwords, texttemplate\u001b[38;5;241m=\u001b[39m\u001b[38;5;124m\"\u001b[39m\u001b[38;5;124m%\u001b[39m\u001b[38;5;132;01m{text}\u001b[39;00m\u001b[38;5;124m\"\u001b[39m)\n",
      "File \u001b[0;32m~/miniconda3/envs/vlm/lib/python3.10/site-packages/plotly/express/_imshow.py:393\u001b[0m, in \u001b[0;36mimshow\u001b[0;34m(img, zmin, zmax, origin, labels, x, y, animation_frame, facet_col, facet_col_wrap, facet_col_spacing, facet_row_spacing, color_continuous_scale, color_continuous_midpoint, range_color, title, template, width, height, aspect, contrast_rescaling, binary_string, binary_backend, binary_compression_level, binary_format, text_auto)\u001b[0m\n\u001b[1;32m    391\u001b[0m x_index \u001b[38;5;241m=\u001b[39m slice_dimensions \u001b[38;5;241m+\u001b[39m \u001b[38;5;241m1\u001b[39m\n\u001b[1;32m    392\u001b[0m \u001b[38;5;28;01mif\u001b[39;00m x \u001b[38;5;129;01mis\u001b[39;00m \u001b[38;5;129;01mnot\u001b[39;00m \u001b[38;5;28;01mNone\u001b[39;00m \u001b[38;5;129;01mand\u001b[39;00m img\u001b[38;5;241m.\u001b[39mshape[x_index] \u001b[38;5;241m!=\u001b[39m \u001b[38;5;28mlen\u001b[39m(x):\n\u001b[0;32m--> 393\u001b[0m     \u001b[38;5;28;01mraise\u001b[39;00m \u001b[38;5;167;01mValueError\u001b[39;00m(\n\u001b[1;32m    394\u001b[0m         \u001b[38;5;124m\"\u001b[39m\u001b[38;5;124mThe length of the x vector must match the length of the second \u001b[39m\u001b[38;5;124m\"\u001b[39m\n\u001b[1;32m    395\u001b[0m         \u001b[38;5;241m+\u001b[39m \u001b[38;5;124m\"\u001b[39m\u001b[38;5;124mdimension of the img matrix.\u001b[39m\u001b[38;5;124m\"\u001b[39m\n\u001b[1;32m    396\u001b[0m     )\n\u001b[1;32m    398\u001b[0m texttemplate \u001b[38;5;241m=\u001b[39m \u001b[38;5;28;01mNone\u001b[39;00m\n\u001b[1;32m    399\u001b[0m \u001b[38;5;28;01mif\u001b[39;00m text_auto \u001b[38;5;129;01mis\u001b[39;00m \u001b[38;5;28;01mTrue\u001b[39;00m:\n",
      "\u001b[0;31mValueError\u001b[0m: The length of the x vector must match the length of the second dimension of the img matrix."
     ]
    }
   ],
   "source": [
    "import plotly.express as px\n",
    "import plotly.io as pio\n",
    "pio.renderers.default = \"plotly_mimetype+notebook_connected+colab+notebook\"\n",
    "\n",
    "fig = px.imshow(\n",
    "    max_probs.detach().cpu().numpy(),\n",
    "    x=input_words,\n",
    "    y=list(range(len(words))),\n",
    "    color_continuous_scale=px.colors.diverging.RdYlBu_r,\n",
    "    color_continuous_midpoint=0.50,\n",
    "    text_auto=True,\n",
    "    labels=dict(x=\"Input Tokens\", y=\"Layers\", color=\"Probability\")\n",
    ")\n",
    "\n",
    "fig.update_layout(\n",
    "    title='Logit Lens Visualization',\n",
    "    xaxis_tickangle=0\n",
    ")\n",
    "\n",
    "fig.update_traces(text=words, texttemplate=\"%{text}\")\n",
    "fig.show()\n"
   ]
  }
 ],
 "metadata": {
  "kernelspec": {
   "display_name": "vlm",
   "language": "python",
   "name": "python3"
  },
  "language_info": {
   "codemirror_mode": {
    "name": "ipython",
    "version": 3
   },
   "file_extension": ".py",
   "mimetype": "text/x-python",
   "name": "python",
   "nbconvert_exporter": "python",
   "pygments_lexer": "ipython3",
   "version": "3.10.15"
  }
 },
 "nbformat": 4,
 "nbformat_minor": 2
}
