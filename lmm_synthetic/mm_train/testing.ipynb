{
 "cells": [
  {
   "cell_type": "code",
   "execution_count": 1,
   "metadata": {},
   "outputs": [
    {
     "name": "stderr",
     "output_type": "stream",
     "text": [
      "/home/allanz/miniconda3/envs/vlm/lib/python3.10/site-packages/tqdm/auto.py:21: TqdmWarning: IProgress not found. Please update jupyter and ipywidgets. See https://ipywidgets.readthedocs.io/en/stable/user_install.html\n",
      "  from .autonotebook import tqdm as notebook_tqdm\n",
      "\u001b[32m2025-01-24 18:21:32.461\u001b[0m | \u001b[1mINFO    \u001b[0m | \u001b[36mmm_datasets\u001b[0m:\u001b[36m__init__\u001b[0m:\u001b[36m179\u001b[0m - \u001b[1mDataset size: 10\u001b[0m\n",
      "\u001b[32m2025-01-24 18:21:32.471\u001b[0m | \u001b[1mINFO    \u001b[0m | \u001b[36mmm_datasets\u001b[0m:\u001b[36m__init__\u001b[0m:\u001b[36m179\u001b[0m - \u001b[1mDataset size: 10\u001b[0m\n",
      "\u001b[32m2025-01-24 18:21:32.481\u001b[0m | \u001b[1mINFO    \u001b[0m | \u001b[36mmm_datasets\u001b[0m:\u001b[36m__init__\u001b[0m:\u001b[36m179\u001b[0m - \u001b[1mDataset size: 10\u001b[0m\n",
      "\u001b[32m2025-01-24 18:21:32.486\u001b[0m | \u001b[1mINFO    \u001b[0m | \u001b[36mmm_datasets\u001b[0m:\u001b[36m__init__\u001b[0m:\u001b[36m179\u001b[0m - \u001b[1mDataset size: 10\u001b[0m\n",
      "\u001b[32m2025-01-24 18:21:32.496\u001b[0m | \u001b[1mINFO    \u001b[0m | \u001b[36mmm_datasets\u001b[0m:\u001b[36m__init__\u001b[0m:\u001b[36m179\u001b[0m - \u001b[1mDataset size: 10\u001b[0m\n",
      "\u001b[32m2025-01-24 18:21:32.506\u001b[0m | \u001b[1mINFO    \u001b[0m | \u001b[36mmm_datasets\u001b[0m:\u001b[36m__init__\u001b[0m:\u001b[36m179\u001b[0m - \u001b[1mDataset size: 10\u001b[0m\n",
      "\u001b[32m2025-01-24 18:21:32.511\u001b[0m | \u001b[1mINFO    \u001b[0m | \u001b[36mmm_datasets\u001b[0m:\u001b[36m__init__\u001b[0m:\u001b[36m179\u001b[0m - \u001b[1mDataset size: 10\u001b[0m\n"
     ]
    },
    {
     "name": "stdout",
     "output_type": "stream",
     "text": [
      "/home/allanz/lmm/lmm_synthetic/mm_train/dataset_configs/original.json\n",
      "/home/allanz/lmm/lmm_synthetic/mm_train/dataset_configs/grid.json\n",
      "/home/allanz/lmm/lmm_synthetic/mm_train/dataset_configs/sub_sampling.json\n",
      "/home/allanz/lmm/lmm_synthetic/mm_train/dataset_configs/distinct.json\n",
      "/home/allanz/lmm/lmm_synthetic/mm_train/dataset_configs/original_align.json\n",
      "/home/allanz/lmm/lmm_synthetic/mm_train/dataset_configs/sub_sampling_align.json\n",
      "/home/allanz/lmm/lmm_synthetic/mm_train/dataset_configs/distinct_align.json\n"
     ]
    }
   ],
   "source": [
    "from mm_datasets import * \n",
    "import os \n",
    "\n",
    "config_folder = \"/home/allanz/lmm/lmm_synthetic/mm_train/dataset_configs\"\n",
    "datasets = []\n",
    "for file in os.listdir(config_folder):\n",
    "    file_path = os.path.join(config_folder, file)\n",
    "    print(file_path)\n",
    "    datasets.append(LazySupervisedDataset(file_path))"
   ]
  },
  {
   "cell_type": "code",
   "execution_count": 2,
   "metadata": {},
   "outputs": [
    {
     "data": {
      "text/plain": [
       "{'image': <PIL.Image.Image image mode=RGB size=256x256>,\n",
       " 'prompt': \"The grid above is size 3 by 3. Each cell contains an object from ['dog', 'ship', 'airplane', 'frog'].\",\n",
       " 'conversations': [['What object is in row 0, column 0? ', 'dog'],\n",
       "  ['What object is in row 0, column 1? ', 'airplane'],\n",
       "  ['What object is in row 2, column 0? ', 'frog'],\n",
       "  ['What object is in row 0, column 2? ', 'airplane'],\n",
       "  ['What object is in row 1, column 2? ', 'frog'],\n",
       "  ['What object is in row 1, column 1? ', 'dog'],\n",
       "  ['What object is in row 2, column 2? ', 'ship'],\n",
       "  ['What object is in row 1, column 0? ', 'ship'],\n",
       "  ['What object is in row 2, column 1? ', 'frog']]}"
      ]
     },
     "execution_count": 2,
     "metadata": {},
     "output_type": "execute_result"
    }
   ],
   "source": [
    "# Original \n",
    "datasets[0][0]"
   ]
  },
  {
   "cell_type": "code",
   "execution_count": 3,
   "metadata": {},
   "outputs": [
    {
     "data": {
      "text/plain": [
       "{'image': <PIL.Image.Image image mode=RGB size=256x256>,\n",
       " 'prompt': \"The grid above is size 3 by 3. Each cell contains an object from ['dog', 'ship', 'airplane', 'frog'].\",\n",
       " 'conversations': [['',\n",
       "   '| dog | airplane | airplane |\\n| ship | dog | frog |\\n| frog | frog | ship |']]}"
      ]
     },
     "execution_count": 3,
     "metadata": {},
     "output_type": "execute_result"
    }
   ],
   "source": [
    "# Grid\n",
    "datasets[1][0]"
   ]
  },
  {
   "cell_type": "code",
   "execution_count": 4,
   "metadata": {},
   "outputs": [
    {
     "data": {
      "text/plain": [
       "{'image': <PIL.Image.Image image mode=RGB size=256x256>,\n",
       " 'prompt': \"The grid above is size 3 by 3. Each cell contains an object from ['dog', 'ship', 'airplane', 'frog'].\",\n",
       " 'conversations': [['What object is in row 0, column 2? ', 'airplane'],\n",
       "  ['What object is in row 0, column 0? ', 'dog'],\n",
       "  ['What object is in row 1, column 0? ', 'ship']]}"
      ]
     },
     "execution_count": 4,
     "metadata": {},
     "output_type": "execute_result"
    }
   ],
   "source": [
    "# Subsample\n",
    "datasets[2][0]"
   ]
  },
  {
   "cell_type": "code",
   "execution_count": 5,
   "metadata": {},
   "outputs": [
    {
     "name": "stdout",
     "output_type": "stream",
     "text": [
      "{'image': <PIL.Image.Image image mode=RGB size=256x256 at 0x7F4B28505870>, 'prompt': \"The grid above is size 3 by 3. Each cell contains an object from ['dog', 'ship', 'airplane', 'frog'].\", 'conversations': [['What object is in row 2, column 0? ', 'frog'], ['What object is in row 0, column 2? ', 'airplane'], ['What object is in row 1, column 0? ', 'ship']]}\n",
      "{'image': <PIL.Image.Image image mode=RGB size=256x256 at 0x7F4B28505FC0>, 'prompt': \"The grid above is size 3 by 3. Each cell contains an object from ['dog', 'ship', 'airplane', 'frog'].\", 'conversations': [['What object is in row 2, column 2? ', 'ship'], ['What object is in row 0, column 0? ', 'dog'], ['What object is in row 2, column 0? ', 'frog']]}\n",
      "{'image': <PIL.Image.Image image mode=RGB size=256x256 at 0x7F4B285045B0>, 'prompt': \"The grid above is size 3 by 3. Each cell contains an object from ['dog', 'ship', 'airplane', 'frog'].\", 'conversations': [['What object is in row 1, column 2? ', 'frog'], ['What object is in row 1, column 1? ', 'dog'], ['What object is in row 0, column 1? ', 'airplane']]}\n",
      "{'image': <PIL.Image.Image image mode=RGB size=256x256 at 0x7F4B28506050>, 'prompt': \"The grid above is size 3 by 3. Each cell contains an object from ['dog', 'bird', 'airplane', 'frog'].\", 'conversations': [['What object is in row 1, column 1? ', 'frog'], ['What object is in row 0, column 1? ', 'bird'], ['What object is in row 2, column 1? ', 'airplane']]}\n"
     ]
    }
   ],
   "source": [
    "# Distinct \n",
    "for i in range(4):\n",
    "    print(datasets[3][i])"
   ]
  },
  {
   "cell_type": "code",
   "execution_count": 7,
   "metadata": {},
   "outputs": [
    {
     "data": {
      "text/plain": [
       "{'image': <PIL.Image.Image image mode=RGB size=256x256>,\n",
       " 'prompt': \"The grid above is size 3 by 3. Each cell contains an object from ['dog', 'ship', 'airplane', 'frog'].\",\n",
       " 'conversations': [['',\n",
       "   'What object is in row 0, column 0? dog\\nWhat object is in row 0, column 1? airplane\\nWhat object is in row 2, column 0? frog\\nWhat object is in row 0, column 2? airplane\\nWhat object is in row 1, column 2? frog\\nWhat object is in row 1, column 1? dog\\nWhat object is in row 2, column 2? ship\\nWhat object is in row 1, column 0? ship\\nWhat object is in row 2, column 1? frog\\n']]}"
      ]
     },
     "execution_count": 7,
     "metadata": {},
     "output_type": "execute_result"
    }
   ],
   "source": [
    "# Original Align \n",
    "datasets[4][0]"
   ]
  },
  {
   "cell_type": "code",
   "execution_count": 8,
   "metadata": {},
   "outputs": [
    {
     "data": {
      "text/plain": [
       "{'image': <PIL.Image.Image image mode=RGB size=256x256>,\n",
       " 'prompt': \"The grid above is size 3 by 3. Each cell contains an object from ['dog', 'ship', 'airplane', 'frog'].\",\n",
       " 'conversations': [['',\n",
       "   'What object is in row 1, column 2? frog\\nWhat object is in row 0, column 0? dog\\nWhat object is in row 2, column 1? frog\\n']]}"
      ]
     },
     "execution_count": 8,
     "metadata": {},
     "output_type": "execute_result"
    }
   ],
   "source": [
    "# Sub Sample Align\n",
    "datasets[5][0]"
   ]
  },
  {
   "cell_type": "code",
   "execution_count": 9,
   "metadata": {},
   "outputs": [
    {
     "name": "stdout",
     "output_type": "stream",
     "text": [
      "{'image': <PIL.Image.Image image mode=RGB size=256x256 at 0x7F4B28504640>, 'prompt': \"The grid above is size 3 by 3. Each cell contains an object from ['dog', 'ship', 'airplane', 'frog'].\", 'conversations': ['What object is in row 1, column 0? shipWhat object is in row 1, column 2? frogWhat object is in row 1, column 1? dog\\n']}\n",
      "{'image': <PIL.Image.Image image mode=RGB size=256x256 at 0x7F4B285044F0>, 'prompt': \"The grid above is size 3 by 3. Each cell contains an object from ['dog', 'ship', 'airplane', 'frog'].\", 'conversations': ['What object is in row 2, column 0? frogWhat object is in row 1, column 2? frogWhat object is in row 0, column 2? airplane\\n']}\n",
      "{'image': <PIL.Image.Image image mode=RGB size=256x256 at 0x7F4B285055D0>, 'prompt': \"The grid above is size 3 by 3. Each cell contains an object from ['dog', 'ship', 'airplane', 'frog'].\", 'conversations': ['What object is in row 0, column 2? airplaneWhat object is in row 1, column 1? dogWhat object is in row 2, column 0? frog\\n']}\n",
      "{'image': <PIL.Image.Image image mode=RGB size=256x256 at 0x7F4B28504B20>, 'prompt': \"The grid above is size 3 by 3. Each cell contains an object from ['dog', 'bird', 'airplane', 'frog'].\", 'conversations': ['What object is in row 1, column 0? birdWhat object is in row 1, column 1? frogWhat object is in row 0, column 2? frog\\n']}\n"
     ]
    }
   ],
   "source": [
    "# Distinct Align\n",
    "for i in range(4):\n",
    "    print(datasets[6][i])"
   ]
  }
 ],
 "metadata": {
  "kernelspec": {
   "display_name": "vlm",
   "language": "python",
   "name": "python3"
  },
  "language_info": {
   "codemirror_mode": {
    "name": "ipython",
    "version": 3
   },
   "file_extension": ".py",
   "mimetype": "text/x-python",
   "name": "python",
   "nbconvert_exporter": "python",
   "pygments_lexer": "ipython3",
   "version": "3.10.15"
  }
 },
 "nbformat": 4,
 "nbformat_minor": 2
}
