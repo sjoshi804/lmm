{
 "cells": [
  {
   "cell_type": "code",
   "execution_count": 6,
   "metadata": {},
   "outputs": [],
   "source": [
    "from datasets import load_from_disk\n",
    "\n",
    "dataset = load_from_disk(\"/home/allanz/data/datasets/v3.1_spatial_grid_multimodal/\")"
   ]
  },
  {
   "cell_type": "code",
   "execution_count": 119,
   "metadata": {},
   "outputs": [
    {
     "name": "stdout",
     "output_type": "stream",
     "text": [
      "What object is in row 2, column 2?A: bird\n",
      "What object is in row 1, column 2?A: cat\n",
      "What object is in row 0, column 0?A: deer\n",
      "What object is in row 0, column 1?A: cat\n",
      "What object is in row 1, column 0?A: deer\n",
      "What object is in row 1, column 1?A: cat\n",
      "What object is in row 0, column 2?A: bird\n",
      "What object is in row 2, column 1?A: dog\n",
      "What object is in row 2, column 0?A: bird\n",
      "\n"
     ]
    }
   ],
   "source": [
    "response = \"\"\n",
    "for i in range(len(dataset[\"train\"][0][\"conversations\"])):\n",
    "    for j in range(len(dataset[\"train\"][0][\"conversations\"][i])):\n",
    "        if j % 2 == 1:\n",
    "            response += dataset[\"train\"][0][\"conversations\"][i][j] + \"\\n\"\n",
    "        else:\n",
    "            response += dataset[\"train\"][0][\"conversations\"][i][j]\n",
    "print(temp)"
   ]
  },
  {
   "cell_type": "code",
   "execution_count": 120,
   "metadata": {},
   "outputs": [
    {
     "data": {
      "text/plain": [
       "'What object is in row 2, column 2?A: bird\\nWhat object is in row 1, column 2?A: cat\\nWhat object is in row 0, column 0?A: deer\\nWhat object is in row 0, column 1?A: cat\\nWhat object is in row 1, column 0?A: deer\\nWhat object is in row 1, column 1?A: cat\\nWhat object is in row 0, column 2?A: bird\\nWhat object is in row 2, column 1?A: dog\\nWhat object is in row 2, column 0?A: bird\\n'"
      ]
     },
     "execution_count": 120,
     "metadata": {},
     "output_type": "execute_result"
    }
   ],
   "source": [
    "temp"
   ]
  },
  {
   "cell_type": "code",
   "execution_count": 121,
   "metadata": {},
   "outputs": [],
   "source": [
    "from typing import Dict, List\n",
    "\n",
    "from datasets import load_from_disk\n",
    "from loguru import logger\n",
    "from PIL import Image\n",
    "from torch.utils.data import Dataset\n",
    "import torchvision.transforms as transforms\n",
    "import random\n",
    "\n",
    "from lmm_synthetic.data.convert_to_multimodal import parse_grid_from_text\n",
    "\n",
    "def find_text(text, char, index):\n",
    "    count = 0\n",
    "    for i in range(len(text)):\n",
    "        if text[i] == char:\n",
    "            count += 1\n",
    "            if count == index:\n",
    "                return i \n",
    "\n",
    "\n",
    "class LazySupervisedDataset(Dataset):\n",
    "    \"\"\"Dataset for multimodal supervised fine-tuning\n",
    "\n",
    "    Args:\n",
    "        data_path (str): Path to the dataset.\n",
    "        split (str): Dataset split (e.g., 'train', 'test').\n",
    "        max_data_size (int, optional): Maximum number of data samples to load. Defaults to -1 (load all).\n",
    "        vision_token_ablation (bool, optional): Whether to perform vision token ablation. Defaults to False.\n",
    "        debug (bool, optional): Whether to enable debug mode. Defaults to False.\n",
    "        alignment (bool, optional): Whether to concatenate everything into reponse for alignment training\n",
    "        image_grid (bool, optional): Whether to have dataset only include image and text grid\n",
    "        sub_sampling (bool, optional): Whether to subsample the conversations\n",
    "        num_samples (int, optional): Number of conversations to subsample\n",
    "    \"\"\"\n",
    "\n",
    "    def __init__(\n",
    "        self, \n",
    "        data_path: str, \n",
    "        split: str,\n",
    "        max_data_size: int = -1,\n",
    "        vision_token_ablation: bool = False,\n",
    "        debug: bool = False,\n",
    "        alignment: bool = False,\n",
    "        image_grid: bool = False,\n",
    "        sub_sampling: bool = False,\n",
    "        num_samples: int = 3\n",
    "    ) -> None:\n",
    "        super(LazySupervisedDataset, self).__init__()\n",
    "        self.debug = debug\n",
    "        self.vision_token_ablation = vision_token_ablation\n",
    "\n",
    "        # Load the dataset from disk\n",
    "        hf_dataset = load_from_disk(data_path)[split]\n",
    "        self.list_data_dict = []\n",
    "\n",
    "        # Image grid is already suited for alignment training\n",
    "        if image_grid == True:\n",
    "            for sample in hf_dataset:\n",
    "                prompt = sample.get(\"prompt\", \"\")\n",
    "                grid_index = find_text(sample.get(\"text\", \"\"), \"\\n\", 3)\n",
    "                grid = sample.get(\"text\", \"\")[0:grid_index]\n",
    "                conversations = [[\"\", grid]]\n",
    "                data_dict = {\n",
    "                    \"image\": sample.get(\"image\", None),\n",
    "                    \"prompt\": prompt,\n",
    "                    \"conversations\": conversations\n",
    "                }\n",
    "                if self.debug:\n",
    "                    data_dict[\"text\"] = sample.get(\"text\", \"\")\n",
    "                if self.vision_token_ablation:\n",
    "                    data_dict[\"grid\"] = sample.get('grid', parse_grid_from_text(sample['text']))\n",
    "                self.list_data_dict.append(data_dict)\n",
    "\n",
    "        else:\n",
    "            for sample in hf_dataset:\n",
    "                prompt = sample.get(\"prompt\", \"\")\n",
    "                if alignment == True:\n",
    "                    if sub_sampling == True:\n",
    "                        conversations = []\n",
    "                        response = \"\"\n",
    "                        shuffled = random.sample(sample[\"conversations\"], num_samples)\n",
    "                        for entry in random.sample(sample[\"conversations\"], num_samples):\n",
    "                            for subentry in entry:\n",
    "                                response += \"\" + subentry\n",
    "                        response = \"\"\n",
    "                        for i in range(len(shuffled)):\n",
    "                            for j in range(len(shuffled[i])):\n",
    "                                if j % 2 == 1:\n",
    "                                    response += shuffled[i][j] + \"\\n\"\n",
    "                                else:\n",
    "                                    response += shuffled[i][j]\n",
    "                        conversations.append([\"\", response])\n",
    "                    else:\n",
    "                        conversations = []\n",
    "                        response = \"\"\n",
    "                        for i in range(len(sample[\"conversations\"])):\n",
    "                            for j in range(len(sample[\"conversations\"][i])):\n",
    "                                if j % 2 == 1:\n",
    "                                    response += sample[\"conversations\"][i][j] + \"\\n\"\n",
    "                                else:\n",
    "                                    response += sample[\"conversations\"][i][j]\n",
    "                        conversations.append([\"\", response])\n",
    "                else:\n",
    "                    if sub_sampling == True:\n",
    "                        conversations = random.sample(sample[\"conversations\"], num_samples)\n",
    "                    else:\n",
    "                        conversations = sample.get(\"conversations\", [])\n",
    "                data_dict = {\n",
    "                    \"image\": sample.get(\"image\", None),\n",
    "                    \"prompt\": prompt,\n",
    "                    \"conversations\": conversations\n",
    "                    }\n",
    "                if self.debug:\n",
    "                    data_dict[\"text\"] = sample.get(\"text\", \"\")\n",
    "                if self.vision_token_ablation:\n",
    "                    data_dict[\"grid\"] = sample.get('grid', parse_grid_from_text(sample['text']))\n",
    "                self.list_data_dict.append(data_dict)\n",
    "\n",
    "\n",
    "\n",
    "        # Limit the dataset size if max_data_size is specified\n",
    "        if max_data_size > 0:\n",
    "            self.list_data_dict = self.list_data_dict[:max_data_size]\n",
    "\n",
    "        logger.info(f\"Dataset size: {len(self.list_data_dict)}\")\n",
    "\n",
    "        # Determine whether each sample is text-only\n",
    "        self.is_text_only = [\n",
    "            \"image\" not in source for source in self.list_data_dict\n",
    "        ]\n",
    "\n",
    "    def __len__(self) -> int:\n",
    "        \"\"\"Returns the total number of samples in the dataset.\"\"\"\n",
    "        return len(self.list_data_dict)\n",
    "\n",
    "    def __getitem__(self, i) -> Dict[str, List]:\n",
    "        \"\"\"Retrieves the sample at index `i`.\n",
    "\n",
    "        Args:\n",
    "            i (int): Index of the sample to retrieve.\n",
    "\n",
    "        Returns:\n",
    "            Dict[str, List]: A dictionary containing the sample data.\n",
    "        \"\"\"\n",
    "        sample = self.list_data_dict[i]\n",
    "        item_dict = {\n",
    "            \"image\": Image.open(sample[\"image\"]).convert(\"RGB\"),\n",
    "            \"prompt\": sample[\"prompt\"],\n",
    "            \"conversations\": sample[\"conversations\"]\n",
    "        }\n",
    "        if self.debug:\n",
    "            item_dict[\"text\"] = sample[\"text\"]\n",
    "        if self.vision_token_ablation:\n",
    "            item_dict[\"grid\"] = sample[\"grid\"]\n",
    "        return item_dict"
   ]
  },
  {
   "cell_type": "code",
   "execution_count": 122,
   "metadata": {},
   "outputs": [
    {
     "name": "stderr",
     "output_type": "stream",
     "text": [
      "\u001b[32m2025-01-22 13:51:06.155\u001b[0m | \u001b[1mINFO    \u001b[0m | \u001b[36m__main__\u001b[0m:\u001b[36m__init__\u001b[0m:\u001b[36m125\u001b[0m - \u001b[1mDataset size: 10\u001b[0m\n",
      "\u001b[32m2025-01-22 13:51:12.690\u001b[0m | \u001b[1mINFO    \u001b[0m | \u001b[36m__main__\u001b[0m:\u001b[36m__init__\u001b[0m:\u001b[36m125\u001b[0m - \u001b[1mDataset size: 10\u001b[0m\n",
      "\u001b[32m2025-01-22 13:51:19.694\u001b[0m | \u001b[1mINFO    \u001b[0m | \u001b[36m__main__\u001b[0m:\u001b[36m__init__\u001b[0m:\u001b[36m125\u001b[0m - \u001b[1mDataset size: 10\u001b[0m\n"
     ]
    }
   ],
   "source": [
    "original = LazySupervisedDataset(r\"/home/allanz/data/datasets/v3.1_spatial_grid_multimodal/\", \"train\", 10, False, False)\n",
    "image_grid = LazySupervisedDataset(r\"/home/allanz/data/datasets/v3.1_spatial_grid_multimodal/\", \"train\", 10, False, False, False, True)\n",
    "sub_sample = LazySupervisedDataset(r\"/home/allanz/data/datasets/v3.1_spatial_grid_multimodal/\", \"train\", 10, False, False, False, False, True, 3)"
   ]
  },
  {
   "cell_type": "code",
   "execution_count": 123,
   "metadata": {},
   "outputs": [
    {
     "data": {
      "text/plain": [
       "{'image': <PIL.Image.Image image mode=RGB size=256x256>,\n",
       " 'prompt': \"The grid above is size 3 by 3. Each cell contains an object from ['deer', 'bird', 'dog', 'cat'].\",\n",
       " 'conversations': [['What object is in row 2, column 2?', 'A: bird'],\n",
       "  ['What object is in row 1, column 2?', 'A: cat'],\n",
       "  ['What object is in row 0, column 0?', 'A: deer'],\n",
       "  ['What object is in row 0, column 1?', 'A: cat'],\n",
       "  ['What object is in row 1, column 0?', 'A: deer'],\n",
       "  ['What object is in row 1, column 1?', 'A: cat'],\n",
       "  ['What object is in row 0, column 2?', 'A: bird'],\n",
       "  ['What object is in row 2, column 1?', 'A: dog'],\n",
       "  ['What object is in row 2, column 0?', 'A: bird']]}"
      ]
     },
     "execution_count": 123,
     "metadata": {},
     "output_type": "execute_result"
    }
   ],
   "source": [
    "original[0]"
   ]
  },
  {
   "cell_type": "code",
   "execution_count": 124,
   "metadata": {},
   "outputs": [
    {
     "data": {
      "text/plain": [
       "{'image': <PIL.Image.Image image mode=RGB size=256x256>,\n",
       " 'prompt': \"The grid above is size 3 by 3. Each cell contains an object from ['deer', 'bird', 'dog', 'cat'].\",\n",
       " 'conversations': ['',\n",
       "  '| deer | cat | bird |\\n| deer | cat | cat |\\n| bird | dog | bird |']}"
      ]
     },
     "execution_count": 124,
     "metadata": {},
     "output_type": "execute_result"
    }
   ],
   "source": [
    "image_grid[0]"
   ]
  },
  {
   "cell_type": "code",
   "execution_count": 127,
   "metadata": {},
   "outputs": [
    {
     "data": {
      "text/plain": [
       "{'image': <PIL.Image.Image image mode=RGB size=256x256>,\n",
       " 'prompt': \"The grid above is size 3 by 3. Each cell contains an object from ['deer', 'bird', 'dog', 'cat'].\",\n",
       " 'conversations': [['What object is in row 1, column 0?', 'A: deer'],\n",
       "  ['What object is in row 2, column 0?', 'A: bird'],\n",
       "  ['What object is in row 0, column 1?', 'A: cat']]}"
      ]
     },
     "execution_count": 127,
     "metadata": {},
     "output_type": "execute_result"
    }
   ],
   "source": [
    "sub_sample[0]"
   ]
  },
  {
   "cell_type": "code",
   "execution_count": 128,
   "metadata": {},
   "outputs": [
    {
     "name": "stderr",
     "output_type": "stream",
     "text": [
      "\u001b[32m2025-01-22 13:52:22.686\u001b[0m | \u001b[1mINFO    \u001b[0m | \u001b[36m__main__\u001b[0m:\u001b[36m__init__\u001b[0m:\u001b[36m125\u001b[0m - \u001b[1mDataset size: 10\u001b[0m\n",
      "\u001b[32m2025-01-22 13:52:30.153\u001b[0m | \u001b[1mINFO    \u001b[0m | \u001b[36m__main__\u001b[0m:\u001b[36m__init__\u001b[0m:\u001b[36m125\u001b[0m - \u001b[1mDataset size: 10\u001b[0m\n",
      "\u001b[32m2025-01-22 13:52:36.896\u001b[0m | \u001b[1mINFO    \u001b[0m | \u001b[36m__main__\u001b[0m:\u001b[36m__init__\u001b[0m:\u001b[36m125\u001b[0m - \u001b[1mDataset size: 10\u001b[0m\n"
     ]
    }
   ],
   "source": [
    "original_alignment = LazySupervisedDataset(r\"/home/allanz/data/datasets/v3.1_spatial_grid_multimodal/\", \"train\", 10, False, False, True)\n",
    "image_grid_alignment = LazySupervisedDataset(r\"/home/allanz/data/datasets/v3.1_spatial_grid_multimodal/\", \"train\", 10, False, False, True, False, True)\n",
    "sub_sample_alignment = LazySupervisedDataset(r\"/home/allanz/data/datasets/v3.1_spatial_grid_multimodal/\", \"train\", 10, False, False, True, False, False, 3)"
   ]
  },
  {
   "cell_type": "code",
   "execution_count": 129,
   "metadata": {},
   "outputs": [
    {
     "data": {
      "text/plain": [
       "{'image': <PIL.Image.Image image mode=RGB size=256x256>,\n",
       " 'prompt': \"The grid above is size 3 by 3. Each cell contains an object from ['deer', 'bird', 'dog', 'cat'].\",\n",
       " 'conversations': [['',\n",
       "   'What object is in row 2, column 2?A: bird\\nWhat object is in row 1, column 2?A: cat\\nWhat object is in row 0, column 0?A: deer\\nWhat object is in row 0, column 1?A: cat\\nWhat object is in row 1, column 0?A: deer\\nWhat object is in row 1, column 1?A: cat\\nWhat object is in row 0, column 2?A: bird\\nWhat object is in row 2, column 1?A: dog\\nWhat object is in row 2, column 0?A: bird\\n']]}"
      ]
     },
     "execution_count": 129,
     "metadata": {},
     "output_type": "execute_result"
    }
   ],
   "source": [
    "original_alignment[0]"
   ]
  },
  {
   "cell_type": "code",
   "execution_count": 130,
   "metadata": {},
   "outputs": [
    {
     "data": {
      "text/plain": [
       "{'image': <PIL.Image.Image image mode=RGB size=256x256>,\n",
       " 'prompt': \"The grid above is size 3 by 3. Each cell contains an object from ['deer', 'bird', 'dog', 'cat'].\",\n",
       " 'conversations': [['',\n",
       "   'What object is in row 1, column 1?A: cat\\nWhat object is in row 0, column 1?A: cat\\nWhat object is in row 2, column 0?A: bird\\n']]}"
      ]
     },
     "execution_count": 130,
     "metadata": {},
     "output_type": "execute_result"
    }
   ],
   "source": [
    "image_grid_alignment[0]"
   ]
  },
  {
   "cell_type": "code",
   "execution_count": 131,
   "metadata": {},
   "outputs": [
    {
     "data": {
      "text/plain": [
       "{'image': <PIL.Image.Image image mode=RGB size=256x256>,\n",
       " 'prompt': \"The grid above is size 3 by 3. Each cell contains an object from ['deer', 'bird', 'dog', 'cat'].\",\n",
       " 'conversations': [['',\n",
       "   'What object is in row 2, column 2?A: bird\\nWhat object is in row 1, column 2?A: cat\\nWhat object is in row 0, column 0?A: deer\\nWhat object is in row 0, column 1?A: cat\\nWhat object is in row 1, column 0?A: deer\\nWhat object is in row 1, column 1?A: cat\\nWhat object is in row 0, column 2?A: bird\\nWhat object is in row 2, column 1?A: dog\\nWhat object is in row 2, column 0?A: bird\\n']]}"
      ]
     },
     "execution_count": 131,
     "metadata": {},
     "output_type": "execute_result"
    }
   ],
   "source": [
    "sub_sample_alignment[0]"
   ]
  }
 ],
 "metadata": {
  "kernelspec": {
   "display_name": "vlm",
   "language": "python",
   "name": "python3"
  },
  "language_info": {
   "codemirror_mode": {
    "name": "ipython",
    "version": 3
   },
   "file_extension": ".py",
   "mimetype": "text/x-python",
   "name": "python",
   "nbconvert_exporter": "python",
   "pygments_lexer": "ipython3",
   "version": "3.10.15"
  }
 },
 "nbformat": 4,
 "nbformat_minor": 2
}
