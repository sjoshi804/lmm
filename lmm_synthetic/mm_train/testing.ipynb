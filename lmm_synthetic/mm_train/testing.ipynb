{
 "cells": [
  {
   "cell_type": "code",
   "execution_count": 4,
   "metadata": {},
   "outputs": [
    {
     "name": "stderr",
     "output_type": "stream",
     "text": [
      "\u001b[32m2025-01-24 14:02:39.655\u001b[0m | \u001b[1mINFO    \u001b[0m | \u001b[36mmm_datasets\u001b[0m:\u001b[36m__init__\u001b[0m:\u001b[36m169\u001b[0m - \u001b[1mDataset size: 10\u001b[0m\n"
     ]
    },
    {
     "name": "stderr",
     "output_type": "stream",
     "text": [
      "\u001b[32m2025-01-24 14:02:39.670\u001b[0m | \u001b[1mINFO    \u001b[0m | \u001b[36mmm_datasets\u001b[0m:\u001b[36m__init__\u001b[0m:\u001b[36m169\u001b[0m - \u001b[1mDataset size: 10\u001b[0m\n",
      "\u001b[32m2025-01-24 14:02:39.684\u001b[0m | \u001b[1mINFO    \u001b[0m | \u001b[36mmm_datasets\u001b[0m:\u001b[36m__init__\u001b[0m:\u001b[36m169\u001b[0m - \u001b[1mDataset size: 10\u001b[0m\n",
      "\u001b[32m2025-01-24 14:02:39.693\u001b[0m | \u001b[1mINFO    \u001b[0m | \u001b[36mmm_datasets\u001b[0m:\u001b[36m__init__\u001b[0m:\u001b[36m169\u001b[0m - \u001b[1mDataset size: 10\u001b[0m\n"
     ]
    }
   ],
   "source": [
    "from mm_datasets import * \n",
    "\n",
    "original = LazySupervisedDataset(r\"/home/allanz/data/datasets/spuco/test/multimodal_dataset\", \"train\", 10, False, False)\n",
    "grid = LazySupervisedDataset(r\"/home/allanz/data/datasets/spuco/test/multimodal_dataset\", \"train\", 10, False, False, False, image_grid = True)\n",
    "sub_sampling = LazySupervisedDataset(r\"/home/allanz/data/datasets/spuco/test/multimodal_dataset\", \"train\", 10, False, False, False, sub_sampling = True, num_samples=3)\n",
    "distinct = LazySupervisedDataset(r\"/home/allanz/data/datasets/spuco/test/multimodal_dataset\", \"train\", 10, False, False, False, sub_sampling = False, distinct_image=True, num_distinct_img=0.4, num_distinct_questions=3)"
   ]
  },
  {
   "cell_type": "code",
   "execution_count": 15,
   "metadata": {},
   "outputs": [
    {
     "name": "stderr",
     "output_type": "stream",
     "text": [
      "\u001b[32m2025-01-24 14:06:20.820\u001b[0m | \u001b[1mINFO    \u001b[0m | \u001b[36mmm_datasets\u001b[0m:\u001b[36m__init__\u001b[0m:\u001b[36m169\u001b[0m - \u001b[1mDataset size: 10\u001b[0m\n",
      "\u001b[32m2025-01-24 14:06:20.834\u001b[0m | \u001b[1mINFO    \u001b[0m | \u001b[36mmm_datasets\u001b[0m:\u001b[36m__init__\u001b[0m:\u001b[36m169\u001b[0m - \u001b[1mDataset size: 10\u001b[0m\n",
      "\u001b[32m2025-01-24 14:06:20.844\u001b[0m | \u001b[1mINFO    \u001b[0m | \u001b[36mmm_datasets\u001b[0m:\u001b[36m__init__\u001b[0m:\u001b[36m169\u001b[0m - \u001b[1mDataset size: 10\u001b[0m\n"
     ]
    }
   ],
   "source": [
    "original_alignment = LazySupervisedDataset(r\"/home/allanz/data/datasets/spuco/test/multimodal_dataset\", \"train\", 10, False, False, alignment=True)\n",
    "sub_sampling_alignment = LazySupervisedDataset(r\"/home/allanz/data/datasets/spuco/test/multimodal_dataset\", \"train\", 10, False, False, alignment=True, image_grid=False, sub_sampling = True, num_samples=3)\n",
    "distinct_alignment = LazySupervisedDataset(r\"/home/allanz/data/datasets/spuco/test/multimodal_dataset\", \"train\", 10, False, False, alignment=True, sub_sampling = False, distinct_image=True, num_distinct_img=0.4, num_distinct_questions=3)"
   ]
  },
  {
   "cell_type": "code",
   "execution_count": 18,
   "metadata": {},
   "outputs": [
    {
     "data": {
      "text/plain": [
       "{'image': <PIL.Image.Image image mode=RGB size=256x256>,\n",
       " 'prompt': \"The grid above is size 3 by 3. Each cell contains an object from ['dog', 'ship', 'airplane', 'frog'].\",\n",
       " 'conversations': [['What object is in row 0, column 0? ', 'dog'],\n",
       "  ['What object is in row 0, column 1? ', 'airplane'],\n",
       "  ['What object is in row 2, column 0? ', 'frog'],\n",
       "  ['What object is in row 0, column 2? ', 'airplane'],\n",
       "  ['What object is in row 1, column 2? ', 'frog'],\n",
       "  ['What object is in row 1, column 1? ', 'dog'],\n",
       "  ['What object is in row 2, column 2? ', 'ship'],\n",
       "  ['What object is in row 1, column 0? ', 'ship'],\n",
       "  ['What object is in row 2, column 1? ', 'frog']]}"
      ]
     },
     "execution_count": 18,
     "metadata": {},
     "output_type": "execute_result"
    }
   ],
   "source": [
    "original[0]\n"
   ]
  },
  {
   "cell_type": "code",
   "execution_count": 19,
   "metadata": {},
   "outputs": [
    {
     "data": {
      "text/plain": [
       "{'image': <PIL.Image.Image image mode=RGB size=256x256>,\n",
       " 'prompt': \"The grid above is size 3 by 3. Each cell contains an object from ['dog', 'ship', 'airplane', 'frog'].\",\n",
       " 'conversations': [['',\n",
       "   '| dog | airplane | airplane |\\n| ship | dog | frog |\\n| frog | frog | ship |']]}"
      ]
     },
     "execution_count": 19,
     "metadata": {},
     "output_type": "execute_result"
    }
   ],
   "source": [
    "grid[0]"
   ]
  },
  {
   "cell_type": "code",
   "execution_count": 20,
   "metadata": {},
   "outputs": [
    {
     "data": {
      "text/plain": [
       "{'image': <PIL.Image.Image image mode=RGB size=256x256>,\n",
       " 'prompt': \"The grid above is size 3 by 3. Each cell contains an object from ['dog', 'ship', 'airplane', 'frog'].\",\n",
       " 'conversations': [['What object is in row 0, column 2? ', 'airplane'],\n",
       "  ['What object is in row 1, column 2? ', 'frog'],\n",
       "  ['What object is in row 0, column 0? ', 'dog']]}"
      ]
     },
     "execution_count": 20,
     "metadata": {},
     "output_type": "execute_result"
    }
   ],
   "source": [
    "sub_sampling[0]"
   ]
  },
  {
   "cell_type": "code",
   "execution_count": 22,
   "metadata": {},
   "outputs": [
    {
     "data": {
      "text/plain": [
       "{'image': <PIL.Image.Image image mode=RGB size=256x256>,\n",
       " 'prompt': \"The grid above is size 3 by 3. Each cell contains an object from ['dog', 'ship', 'airplane', 'frog'].\",\n",
       " 'conversations': [['What object is in row 2, column 1? ', 'frog'],\n",
       "  ['What object is in row 1, column 1? ', 'dog'],\n",
       "  ['What object is in row 0, column 0? ', 'dog']]}"
      ]
     },
     "execution_count": 22,
     "metadata": {},
     "output_type": "execute_result"
    }
   ],
   "source": [
    "distinct[0]"
   ]
  },
  {
   "cell_type": "code",
   "execution_count": 23,
   "metadata": {},
   "outputs": [
    {
     "data": {
      "text/plain": [
       "{'image': <PIL.Image.Image image mode=RGB size=256x256>,\n",
       " 'prompt': \"The grid above is size 3 by 3. Each cell contains an object from ['dog', 'ship', 'airplane', 'frog'].\",\n",
       " 'conversations': [['',\n",
       "   'What object is in row 0, column 0? dog\\nWhat object is in row 0, column 1? airplane\\nWhat object is in row 2, column 0? frog\\nWhat object is in row 0, column 2? airplane\\nWhat object is in row 1, column 2? frog\\nWhat object is in row 1, column 1? dog\\nWhat object is in row 2, column 2? ship\\nWhat object is in row 1, column 0? ship\\nWhat object is in row 2, column 1? frog\\n']]}"
      ]
     },
     "execution_count": 23,
     "metadata": {},
     "output_type": "execute_result"
    }
   ],
   "source": [
    "original_alignment[0]"
   ]
  },
  {
   "cell_type": "code",
   "execution_count": 24,
   "metadata": {},
   "outputs": [
    {
     "data": {
      "text/plain": [
       "{'image': <PIL.Image.Image image mode=RGB size=256x256>,\n",
       " 'prompt': \"The grid above is size 3 by 3. Each cell contains an object from ['dog', 'ship', 'airplane', 'frog'].\",\n",
       " 'conversations': [['',\n",
       "   'What object is in row 2, column 2? ship\\nWhat object is in row 0, column 0? dog\\nWhat object is in row 1, column 1? dog\\n']]}"
      ]
     },
     "execution_count": 24,
     "metadata": {},
     "output_type": "execute_result"
    }
   ],
   "source": [
    "sub_sampling_alignment[0]"
   ]
  },
  {
   "cell_type": "code",
   "execution_count": 25,
   "metadata": {},
   "outputs": [
    {
     "data": {
      "text/plain": [
       "{'image': <PIL.Image.Image image mode=RGB size=256x256>,\n",
       " 'prompt': \"The grid above is size 3 by 3. Each cell contains an object from ['dog', 'ship', 'airplane', 'frog'].\",\n",
       " 'conversations': [['',\n",
       "   'What object is in row 0, column 1? airplane\\nWhat object is in row 2, column 1? frog\\nWhat object is in row 2, column 0? frog\\n']]}"
      ]
     },
     "execution_count": 25,
     "metadata": {},
     "output_type": "execute_result"
    }
   ],
   "source": [
    "distinct_alignment[0]"
   ]
  }
 ],
 "metadata": {
  "kernelspec": {
   "display_name": "vlm",
   "language": "python",
   "name": "python3"
  },
  "language_info": {
   "codemirror_mode": {
    "name": "ipython",
    "version": 3
   },
   "file_extension": ".py",
   "mimetype": "text/x-python",
   "name": "python",
   "nbconvert_exporter": "python",
   "pygments_lexer": "ipython3",
   "version": "3.10.15"
  }
 },
 "nbformat": 4,
 "nbformat_minor": 2
}
