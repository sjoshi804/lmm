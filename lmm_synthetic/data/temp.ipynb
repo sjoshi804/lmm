{
 "cells": [
  {
   "cell_type": "code",
   "execution_count": 17,
   "metadata": {},
   "outputs": [],
   "source": [
    "from datasets import load_from_disk\n",
    "\n",
    "dataset =  load_from_disk('/home/allanz/data/datasets/spuco')"
   ]
  },
  {
   "cell_type": "code",
   "execution_count": 18,
   "metadata": {},
   "outputs": [
    {
     "data": {
      "text/plain": [
       "DatasetDict({\n",
       "    train: Dataset({\n",
       "        features: ['text', 'grid'],\n",
       "        num_rows: 10\n",
       "    })\n",
       "    validation: Dataset({\n",
       "        features: ['text', 'grid'],\n",
       "        num_rows: 1\n",
       "    })\n",
       "    test: Dataset({\n",
       "        features: ['text', 'grid'],\n",
       "        num_rows: 1\n",
       "    })\n",
       "})"
      ]
     },
     "execution_count": 18,
     "metadata": {},
     "output_type": "execute_result"
    }
   ],
   "source": [
    "dataset"
   ]
  },
  {
   "cell_type": "code",
   "execution_count": 20,
   "metadata": {},
   "outputs": [
    {
     "name": "stdout",
     "output_type": "stream",
     "text": [
      "{'text': \"| dog | cat | dog |\\n| cat | dog | airplane |\\n| airplane | cat | bird |\\nThe grid above is size 3 by 3. Each cell contains an object from ['cat', 'airplane', 'bird', 'dog'].\\nWhat object is in row 2, column 0? A: airplane\\nWhat object is in row 1, column 1? A: dog\\nWhat object is in row 1, column 0? A: cat\\nWhat object is in row 0, column 1? A: cat\\nWhat object is in row 2, column 2? A: bird\\nWhat object is in row 2, column 1? A: cat\\nWhat object is in row 0, column 0? A: dog\\nWhat object is in row 1, column 2? A: airplane\\nWhat object is in row 0, column 2? A: dog\", 'grid': [['dog', 'cat', 'dog'], ['cat', 'dog', 'airplane'], ['airplane', 'cat', 'bird']]}\n",
      "{'text': \"| dog | dog | horse |\\n| dog | horse | dog |\\n| horse | horse | dog |\\nThe grid above is size 3 by 3. Each cell contains an object from ['horse', 'dog'].\\nWhat object is in row 0, column 0? A: dog\\nWhat object is in row 1, column 2? A: dog\\nWhat object is in row 1, column 1? A: horse\\nWhat object is in row 2, column 1? A: horse\\nWhat object is in row 2, column 2? A: dog\\nWhat object is in row 0, column 2? A: horse\\nWhat object is in row 1, column 0? A: dog\\nWhat object is in row 2, column 0? A: horse\\nWhat object is in row 0, column 1? A: dog\", 'grid': [['dog', 'dog', 'horse'], ['dog', 'horse', 'dog'], ['horse', 'horse', 'dog']]}\n",
      "{'text': \"| dog | airplane | dog |\\n| bird | airplane | dog |\\n| airplane | cat | cat |\\nThe grid above is size 3 by 3. Each cell contains an object from ['cat', 'airplane', 'bird', 'dog'].\\nWhat object is in row 2, column 0? A: airplane\\nWhat object is in row 2, column 2? A: cat\\nWhat object is in row 1, column 1? A: airplane\\nWhat object is in row 0, column 2? A: dog\\nWhat object is in row 2, column 1? A: cat\\nWhat object is in row 0, column 0? A: dog\\nWhat object is in row 0, column 1? A: airplane\\nWhat object is in row 1, column 0? A: bird\\nWhat object is in row 1, column 2? A: dog\", 'grid': [['dog', 'airplane', 'dog'], ['bird', 'airplane', 'dog'], ['airplane', 'cat', 'cat']]}\n",
      "{'text': \"| dog | horse | horse |\\n| ship | dog | horse |\\n| ship | horse | ship |\\nThe grid above is size 3 by 3. Each cell contains an object from ['ship', 'horse', 'dog'].\\nWhat object is in row 1, column 2? A: horse\\nWhat object is in row 2, column 2? A: ship\\nWhat object is in row 2, column 0? A: ship\\nWhat object is in row 0, column 2? A: horse\\nWhat object is in row 1, column 0? A: ship\\nWhat object is in row 1, column 1? A: dog\\nWhat object is in row 0, column 0? A: dog\\nWhat object is in row 0, column 1? A: horse\\nWhat object is in row 2, column 1? A: horse\", 'grid': [['dog', 'horse', 'horse'], ['ship', 'dog', 'horse'], ['ship', 'horse', 'ship']]}\n",
      "{'text': \"| dog | horse | ship |\\n| airplane | horse | airplane |\\n| dog | horse | airplane |\\nThe grid above is size 3 by 3. Each cell contains an object from ['ship', 'horse', 'airplane', 'dog'].\\nWhat object is in row 1, column 0? A: airplane\\nWhat object is in row 0, column 0? A: dog\\nWhat object is in row 1, column 1? A: horse\\nWhat object is in row 0, column 1? A: horse\\nWhat object is in row 2, column 1? A: horse\\nWhat object is in row 2, column 2? A: airplane\\nWhat object is in row 0, column 2? A: ship\\nWhat object is in row 1, column 2? A: airplane\\nWhat object is in row 2, column 0? A: dog\", 'grid': [['dog', 'horse', 'ship'], ['airplane', 'horse', 'airplane'], ['dog', 'horse', 'airplane']]}\n",
      "{'text': \"| dog | dog | dog |\\n| cat | cat | ship |\\n| dog | automobile | cat |\\nThe grid above is size 3 by 3. Each cell contains an object from ['ship', 'automobile', 'cat', 'dog'].\\nWhat object is in row 1, column 1? A: cat\\nWhat object is in row 0, column 2? A: dog\\nWhat object is in row 0, column 0? A: dog\\nWhat object is in row 2, column 1? A: automobile\\nWhat object is in row 1, column 0? A: cat\\nWhat object is in row 2, column 2? A: cat\\nWhat object is in row 2, column 0? A: dog\\nWhat object is in row 1, column 2? A: ship\\nWhat object is in row 0, column 1? A: dog\", 'grid': [['dog', 'dog', 'dog'], ['cat', 'cat', 'ship'], ['dog', 'automobile', 'cat']]}\n",
      "{'text': \"| dog | automobile | frog |\\n| automobile | frog | airplane |\\n| airplane | dog | automobile |\\nThe grid above is size 3 by 3. Each cell contains an object from ['frog', 'automobile', 'airplane', 'dog'].\\nWhat object is in row 0, column 0? A: dog\\nWhat object is in row 1, column 1? A: frog\\nWhat object is in row 2, column 2? A: automobile\\nWhat object is in row 1, column 2? A: airplane\\nWhat object is in row 1, column 0? A: automobile\\nWhat object is in row 2, column 0? A: airplane\\nWhat object is in row 2, column 1? A: dog\\nWhat object is in row 0, column 1? A: automobile\\nWhat object is in row 0, column 2? A: frog\", 'grid': [['dog', 'automobile', 'frog'], ['automobile', 'frog', 'airplane'], ['airplane', 'dog', 'automobile']]}\n",
      "{'text': \"| dog | dog | dog |\\n| deer | deer | deer |\\n| deer | dog | dog |\\nThe grid above is size 3 by 3. Each cell contains an object from ['deer', 'dog'].\\nWhat object is in row 2, column 1? A: dog\\nWhat object is in row 0, column 1? A: dog\\nWhat object is in row 1, column 2? A: deer\\nWhat object is in row 2, column 0? A: deer\\nWhat object is in row 2, column 2? A: dog\\nWhat object is in row 1, column 0? A: deer\\nWhat object is in row 1, column 1? A: deer\\nWhat object is in row 0, column 0? A: dog\\nWhat object is in row 0, column 2? A: dog\", 'grid': [['dog', 'dog', 'dog'], ['deer', 'deer', 'deer'], ['deer', 'dog', 'dog']]}\n",
      "{'text': \"| dog | bird | dog |\\n| deer | ship | dog |\\n| deer | deer | dog |\\nThe grid above is size 3 by 3. Each cell contains an object from ['ship', 'deer', 'bird', 'dog'].\\nWhat object is in row 2, column 0? A: deer\\nWhat object is in row 0, column 1? A: bird\\nWhat object is in row 2, column 2? A: dog\\nWhat object is in row 1, column 0? A: deer\\nWhat object is in row 1, column 1? A: ship\\nWhat object is in row 0, column 0? A: dog\\nWhat object is in row 0, column 2? A: dog\\nWhat object is in row 2, column 1? A: deer\\nWhat object is in row 1, column 2? A: dog\", 'grid': [['dog', 'bird', 'dog'], ['deer', 'ship', 'dog'], ['deer', 'deer', 'dog']]}\n",
      "{'text': \"| dog | dog | ship |\\n| deer | deer | ship |\\n| cat | dog | cat |\\nThe grid above is size 3 by 3. Each cell contains an object from ['ship', 'deer', 'cat', 'dog'].\\nWhat object is in row 1, column 2? A: ship\\nWhat object is in row 0, column 2? A: ship\\nWhat object is in row 0, column 1? A: dog\\nWhat object is in row 1, column 1? A: deer\\nWhat object is in row 0, column 0? A: dog\\nWhat object is in row 2, column 2? A: cat\\nWhat object is in row 2, column 1? A: dog\\nWhat object is in row 1, column 0? A: deer\\nWhat object is in row 2, column 0? A: cat\", 'grid': [['dog', 'dog', 'ship'], ['deer', 'deer', 'ship'], ['cat', 'dog', 'cat']]}\n"
     ]
    }
   ],
   "source": [
    "for i in range(10):\n",
    "    print(dataset[\"train\"][i])"
   ]
  }
 ],
 "metadata": {
  "kernelspec": {
   "display_name": "vlm",
   "language": "python",
   "name": "python3"
  },
  "language_info": {
   "codemirror_mode": {
    "name": "ipython",
    "version": 3
   },
   "file_extension": ".py",
   "mimetype": "text/x-python",
   "name": "python",
   "nbconvert_exporter": "python",
   "pygments_lexer": "ipython3",
   "version": "3.10.15"
  }
 },
 "nbformat": 4,
 "nbformat_minor": 2
}
