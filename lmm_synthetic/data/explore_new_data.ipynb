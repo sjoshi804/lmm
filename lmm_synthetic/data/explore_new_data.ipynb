{
 "cells": [
  {
   "cell_type": "code",
   "execution_count": 52,
   "metadata": {},
   "outputs": [],
   "source": [
    "from datasets import load_dataset, load_from_disk, DatasetDict, Dataset\n",
    "path = \"/home/allanz/data/datasets/v3.1_spatial_grid_multimodal\"\n",
    "dataset = load_from_disk(path)\n"
   ]
  },
  {
   "cell_type": "code",
   "execution_count": 53,
   "metadata": {},
   "outputs": [
    {
     "data": {
      "text/plain": [
       "DatasetDict({\n",
       "    train: Dataset({\n",
       "        features: ['text', 'prompt', 'conversations', 'image'],\n",
       "        num_rows: 100000\n",
       "    })\n",
       "    validation: Dataset({\n",
       "        features: ['text', 'prompt', 'conversations', 'image'],\n",
       "        num_rows: 1000\n",
       "    })\n",
       "    test: Dataset({\n",
       "        features: ['text', 'prompt', 'conversations', 'image'],\n",
       "        num_rows: 1000\n",
       "    })\n",
       "})"
      ]
     },
     "execution_count": 53,
     "metadata": {},
     "output_type": "execute_result"
    }
   ],
   "source": [
    "dataset"
   ]
  },
  {
   "cell_type": "code",
   "execution_count": 54,
   "metadata": {},
   "outputs": [
    {
     "data": {
      "text/plain": [
       "<PIL.PngImagePlugin.PngImageFile image mode=RGB size=256x256>"
      ]
     },
     "metadata": {},
     "output_type": "display_data"
    },
    {
     "name": "stdout",
     "output_type": "stream",
     "text": [
      "The grid above is size 3 by 3. Each cell contains an object from ['airplane', 'horse', 'dog', 'truck', 'frog'].\n",
      "What object is in row 0, column 2?A: frog\n",
      "What object is in row 0, column 0?A: airplane\n",
      "What object is in row 2, column 0?A: dog\n",
      "What object is in row 2, column 2?A: frog\n",
      "What object is in row 1, column 0?A: airplane\n",
      "What object is in row 2, column 1?A: frog\n",
      "What object is in row 1, column 2?A: dog\n",
      "What object is in row 0, column 1?A: truck\n",
      "What object is in row 1, column 1?A: horse\n",
      "| airplane | truck | frog |\n",
      "| airplane | horse | dog |\n",
      "| dog | frog | frog |\n",
      "The grid above is size 3 by 3. Each cell contains an object from ['airplane', 'horse', 'dog', 'truck', 'frog'].\n",
      "What object is in row 0, column 2? A: frog\n",
      "What object is in row 0, column 0? A: airplane\n",
      "What object is in row 2, column 0? A: dog\n",
      "What object is in row 2, column 2? A: frog\n",
      "What object is in row 1, column 0? A: airplane\n",
      "What object is in row 2, column 1? A: frog\n",
      "What object is in row 1, column 2? A: dog\n",
      "What object is in row 0, column 1? A: truck\n",
      "What object is in row 1, column 1? A: horse\n"
     ]
    }
   ],
   "source": [
    "import random\n",
    "from PIL import Image\n",
    "\n",
    "randint = random.randint(0, 1000)\n",
    "display(Image.open(dataset['test'][randint][\"image\"]))\n",
    "print(dataset['test'][randint][\"prompt\"])\n",
    "for conv in dataset[\"test\"][randint][\"conversations\"]:\n",
    "    print(conv[0] + conv[1])\n",
    "print(dataset['test'][randint][\"text\"])"
   ]
  },
  {
   "cell_type": "code",
   "execution_count": 55,
   "metadata": {},
   "outputs": [],
   "source": [
    "img = Image.open(dataset['test'][randint][\"image\"])"
   ]
  },
  {
   "cell_type": "code",
   "execution_count": 56,
   "metadata": {},
   "outputs": [
    {
     "name": "stderr",
     "output_type": "stream",
     "text": [
      "\u001b[32m2025-01-08 23:39:19.886\u001b[0m | \u001b[1mINFO    \u001b[0m | \u001b[36mlmm_synthetic.mm_train.utils\u001b[0m:\u001b[36mload_vision_encoder\u001b[0m:\u001b[36m26\u001b[0m - \u001b[1mLoading vision encoder: clip\u001b[0m\n",
      "\u001b[32m2025-01-08 23:39:19.887\u001b[0m | \u001b[1mINFO    \u001b[0m | \u001b[36mlmm_synthetic.mm_train.utils\u001b[0m:\u001b[36mload_vision_encoder\u001b[0m:\u001b[36m29\u001b[0m - \u001b[1mUsing CLIP model as the vision encoder\u001b[0m\n"
     ]
    },
    {
     "name": "stdout",
     "output_type": "stream",
     "text": [
      "(224, 224)\n"
     ]
    }
   ],
   "source": [
    "from lmm_synthetic.mm_train.utils import load_vision_encoder\n",
    "from torchvision import transforms as T \n",
    "\n",
    "_, image_transforms, _ = load_vision_encoder(\"clip\")\n",
    "\n",
    "resize = T.Resize((224, 224))\n",
    "img_resized = resize(img)\n",
    "print(img_resized.size)"
   ]
  },
  {
   "cell_type": "code",
   "execution_count": 57,
   "metadata": {},
   "outputs": [
    {
     "data": {
      "text/plain": [
       "<Figure size 800x800 with 1 Axes>"
      ]
     },
     "metadata": {},
     "output_type": "display_data"
    }
   ],
   "source": [
    "import numpy as np\n",
    "import matplotlib.pyplot as plt\n",
    "\n",
    "# Convert the image to a numpy array\n",
    "img_array = np.array(img_resized)\n",
    "\n",
    "# Create a figure and axis\n",
    "fig, ax = plt.subplots(1, 1, figsize=(8, 8))\n",
    "\n",
    "# Display the image\n",
    "ax.imshow(img_array)\n",
    "\n",
    "# Draw red lines for 32x32 patches\n",
    "patch_size = 32\n",
    "for i in range(0, img_resized.size[0], patch_size):\n",
    "    ax.axhline(i, color='red', linewidth=1)\n",
    "    ax.axvline(i, color='red', linewidth=1)\n",
    "\n",
    "# Show the plot\n",
    "plt.show()"
   ]

  },
  {
   "cell_type": "code",
   "execution_count": 19,
   "metadata": {},
   "outputs": [],
   "source": [
    "from datasets import load_from_disk\n",
    "dataset = load_from_disk(\"/home/allanz/data/datasets/spuco_multimodal\")"
   ]
  },
  {
   "cell_type": "code",
   "execution_count": 38,
   "metadata": {},
   "outputs": [
    {
     "data": {
      "text/plain": [
       "<PIL.PngImagePlugin.PngImageFile image mode=RGB size=256x256>"
      ]
     },
     "execution_count": 38,
     "metadata": {},
     "output_type": "execute_result"
    }
   ],
   "source": [
    "from PIL import Image\n",
    "import random\n",
    "i = random.randint(0, 1000)\n",
    "Image.open(dataset['test'][i][\"image\"])\n"
   ]
  }
 ],
 "metadata": {
  "kernelspec": {
   "display_name": "vlm",
   "language": "python",
   "name": "python3"
  },
  "language_info": {
   "codemirror_mode": {
    "name": "ipython",
    "version": 3
   },
   "file_extension": ".py",
   "mimetype": "text/x-python",
   "name": "python",
   "nbconvert_exporter": "python",
   "pygments_lexer": "ipython3",
   "version": "3.10.15"
  }
 },
 "nbformat": 4,
 "nbformat_minor": 2
}
