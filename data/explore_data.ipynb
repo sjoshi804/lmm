{
 "cells": [
  {
   "cell_type": "code",
   "execution_count": 2,
   "metadata": {},
   "outputs": [
    {
     "name": "stderr",
     "output_type": "stream",
     "text": [
      "/home/sjoshi/anaconda3/envs/vlm/lib/python3.10/site-packages/tqdm/auto.py:21: TqdmWarning: IProgress not found. Please update jupyter and ipywidgets. See https://ipywidgets.readthedocs.io/en/stable/user_install.html\n",
      "  from .autonotebook import tqdm as notebook_tqdm\n"
     ]
    },
    {
     "name": "stdout",
     "output_type": "stream",
     "text": [
      "DatasetDict({\n",
      "    train: Dataset({\n",
      "        features: ['text'],\n",
      "        num_rows: 1000000\n",
      "    })\n",
      "    validation: Dataset({\n",
      "        features: ['text'],\n",
      "        num_rows: 1000\n",
      "    })\n",
      "    test: Dataset({\n",
      "        features: ['text'],\n",
      "        num_rows: 1000\n",
      "    })\n",
      "})\n"
     ]
    }
   ],
   "source": [
    "from datasets import load_from_disk\n",
    "\n",
    "# Specify the path to the dataset\n",
    "dataset_path = '/home/sjoshi/lmm/data/generated/v3_spatial_grid'\n",
    "\n",
    "# Load the dataset\n",
    "dataset = load_from_disk(dataset_path)\n",
    "\n",
    "# Display the dataset\n",
    "print(dataset)"
   ]
  },
  {
   "cell_type": "code",
   "execution_count": 3,
   "metadata": {},
   "outputs": [
    {
     "name": "stdout",
     "output_type": "stream",
     "text": [
      "| bird | bird | automobile |\n",
      "| automobile | deer | deer |\n",
      "| bird | automobile | automobile |\n",
      "The grid above is size 3 by 3. Each cell contains an object from ['automobile', 'deer', 'bird'].\n",
      "What object is in row 0, column 2? A: automobile\n",
      "What object is in row 1, column 2? A: deer\n",
      "What object is in row 2, column 1? A: automobile\n",
      "What object is in row 1, column 0? A: automobile\n",
      "What object is in row 1, column 1? A: deer\n",
      "What object is in row 2, column 2? A: automobile\n",
      "What object is in row 0, column 1? A: bird\n",
      "What object is in row 2, column 0? A: bird\n",
      "What object is in row 0, column 0? A: bird\n"
     ]
    }
   ],
   "source": [
    "import random \n",
    "\n",
    "print(dataset['train'][random.randint(0, 17)][\"text\"])"
   ]
  },
  {
   "cell_type": "code",
   "execution_count": 144,
   "metadata": {},
   "outputs": [
    {
     "data": {
      "text/plain": [
       "586"
      ]
     },
     "execution_count": 144,
     "metadata": {},
     "output_type": "execute_result"
    }
   ],
   "source": [
    "story = \"One day, a little girl named Lily found a needle in her room. She knew it was difficult to play with it because it was sharp. Lily wanted to share the needle with her mom, so she could sew a button on her shirt. Lily went to her mom and said, 'Mom, I found this needle. Can you share it with me and sew my shirt?' Her mom smiled and said, 'Yes, Lily, we can share the needle and fix your shirt.' Together, they shared the needle and sewed the button on Lily's shirt. It was not difficult for them because they were sharing and helping each other. After they finished, Lily thanked her mom for sharing the needle and fixing her shirt. They both felt happy because they had shared and worked together.\"\n",
    "\n",
    "len(dataset['train'][random.randint(0, 17)][\"text\"])"
   ]
  },
  {
   "cell_type": "code",
   "execution_count": 39,
   "metadata": {},
   "outputs": [
    {
     "name": "stdout",
     "output_type": "stream",
     "text": [
      "DatasetDict({\n",
      "    train: Dataset({\n",
      "        features: ['text', 'image_1'],\n",
      "        num_rows: 100000\n",
      "    })\n",
      "    validation: Dataset({\n",
      "        features: ['text', 'image_1'],\n",
      "        num_rows: 1000\n",
      "    })\n",
      "    test: Dataset({\n",
      "        features: ['text', 'image_1'],\n",
      "        num_rows: 1000\n",
      "    })\n",
      "})\n"
     ]
    }
   ],
   "source": [
    "# Specify the path to the new dataset\n",
    "new_dataset_path = '/home/sjoshi/lmm/data/generated/v3_spatial_grid_multimodal'\n",
    "\n",
    "# Load the new dataset\n",
    "new_dataset = load_from_disk(new_dataset_path)\n",
    "\n",
    "# Display the new dataset\n",
    "print(new_dataset)"
   ]
  },
  {
   "cell_type": "code",
   "execution_count": 57,
   "metadata": {},
   "outputs": [
    {
     "data": {
      "text/plain": [
       "\"| deer | cat | bird |\\n| deer | cat | cat |\\n| bird | dog | bird |\\nThe grid above is size 3 by 3. Each cell contains an object from ['deer', 'bird', 'dog', 'cat'].\\nWhat object is in row 2, column 2? A: bird\\nWhat object is in row 1, column 2? A: cat\\nWhat object is in row 0, column 0? A: deer\\nWhat object is in row 0, column 1? A: cat\\nWhat object is in row 1, column 0? A: deer\\nWhat object is in row 1, column 1? A: cat\\nWhat object is in row 0, column 2? A: bird\\nWhat object is in row 2, column 1? A: dog\\nWhat object is in row 2, column 0? A: bird\""
      ]
     },
     "execution_count": 57,
     "metadata": {},
     "output_type": "execute_result"
    }
   ],
   "source": [
    "new_dataset[\"train\"][0][\"text\"]"
   ]
  },
  {
   "cell_type": "code",
   "execution_count": 58,
   "metadata": {},
   "outputs": [
    {
     "name": "stderr",
     "output_type": "stream",
     "text": [
      "Saving the dataset (1/1 shards): 100%|██████████| 100000/100000 [00:00<00:00, 2489408.02 examples/s]\n",
      "Saving the dataset (1/1 shards): 100%|██████████| 1000/1000 [00:00<00:00, 417468.30 examples/s]\n",
      "Saving the dataset (1/1 shards): 100%|██████████| 1000/1000 [00:00<00:00, 481937.72 examples/s]\n"
     ]
    }
   ],
   "source": [
    "import pandas as pd\n",
    "from datasets import Dataset\n",
    "from datasets import DatasetDict\n",
    "\n",
    "def truncate_before_substring(text, substring):\n",
    "    index = text.find(substring)\n",
    "    if index != -1:\n",
    "        return text[index:]\n",
    "    return text\n",
    "\n",
    "def make_multimodal_prompt(text):\n",
    "    return \"<image_1>\\n\" + truncate_before_substring(text, \"The grid above\")\n",
    "\n",
    "fixed_dataset = {}\n",
    "for split in [\"train\", \"validation\", \"test\"]:\n",
    "    fixed_dataset[split] = []\n",
    "    for i, example in enumerate(new_dataset[split]):\n",
    "        example[\"text\"] = make_multimodal_prompt(example[\"text\"])\n",
    "        fixed_dataset[split].append(example)\n",
    "        \n",
    "    # Create a dataframe from all examples for the current split\n",
    "    df = pd.DataFrame(fixed_dataset[split])\n",
    "\n",
    "    # Convert the dataframe to a HuggingFace dataset\n",
    "    hf_dataset = Dataset.from_pandas(df)\n",
    "\n",
    "    # Merge the new dataset with the existing dataset for the current split\n",
    "    fixed_dataset[split] = hf_dataset\n",
    "fixed_dataset = DatasetDict(fixed_dataset)\n",
    "fixed_dataset.save_to_disk(\"/home/sjoshi/lmm/data/generated/v3_spatial_grid_multimodal\")"
   ]
  },
  {
   "cell_type": "code",
   "execution_count": null,
   "metadata": {},
   "outputs": [],
   "source": []
  }
 ],
 "metadata": {
  "kernelspec": {
   "display_name": "vlm",
   "language": "python",
   "name": "python3"
  },
  "language_info": {
   "codemirror_mode": {
    "name": "ipython",
    "version": 3
   },
   "file_extension": ".py",
   "mimetype": "text/x-python",
   "name": "python",
   "nbconvert_exporter": "python",
   "pygments_lexer": "ipython3",
   "version": "3.10.0"
  }
 },
 "nbformat": 4,
 "nbformat_minor": 2
}
