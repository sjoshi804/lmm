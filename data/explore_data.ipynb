{
 "cells": [
  {
   "cell_type": "code",
   "execution_count": 2,
   "metadata": {},
   "outputs": [
    {
     "name": "stdout",
     "output_type": "stream",
     "text": [
      "DatasetDict({\n",
      "    train: Dataset({\n",
      "        features: ['text'],\n",
      "        num_rows: 1000000\n",
      "    })\n",
      "    validation: Dataset({\n",
      "        features: ['text'],\n",
      "        num_rows: 1000\n",
      "    })\n",
      "    test: Dataset({\n",
      "        features: ['text'],\n",
      "        num_rows: 1000\n",
      "    })\n",
      "})\n"
     ]
    }
   ],
   "source": [
    "from datasets import load_from_disk\n",
    "\n",
    "# Specify the path to the dataset\n",
    "dataset_path = '/home/sjoshi/lmm/data/generated/v3_spatial_grid'\n",
    "\n",
    "# Load the dataset\n",
    "dataset = load_from_disk(dataset_path)\n",
    "\n",
    "# Display the dataset\n",
    "print(dataset)"
   ]
  },
  {
   "cell_type": "code",
   "execution_count": 3,
   "metadata": {},
   "outputs": [
    {
     "name": "stdout",
     "output_type": "stream",
     "text": [
      "| bird | bird | automobile |\n",
      "| automobile | deer | deer |\n",
      "| bird | automobile | automobile |\n",
      "The grid above is size 3 by 3. Each cell contains an object from ['automobile', 'deer', 'bird'].\n",
      "What object is in row 0, column 2? A: automobile\n",
      "What object is in row 1, column 2? A: deer\n",
      "What object is in row 2, column 1? A: automobile\n",
      "What object is in row 1, column 0? A: automobile\n",
      "What object is in row 1, column 1? A: deer\n",
      "What object is in row 2, column 2? A: automobile\n",
      "What object is in row 0, column 1? A: bird\n",
      "What object is in row 2, column 0? A: bird\n",
      "What object is in row 0, column 0? A: bird\n"
     ]
    }
   ],
   "source": [
    "import random \n",
    "\n",
    "print(dataset['train'][random.randint(0, 17)][\"text\"])"
   ]
  },
  {
   "cell_type": "code",
   "execution_count": 144,
   "metadata": {},
   "outputs": [
    {
     "data": {
      "text/plain": [
       "586"
      ]
     },
     "execution_count": 144,
     "metadata": {},
     "output_type": "execute_result"
    }
   ],
   "source": [
    "story = \"One day, a little girl named Lily found a needle in her room. She knew it was difficult to play with it because it was sharp. Lily wanted to share the needle with her mom, so she could sew a button on her shirt. Lily went to her mom and said, 'Mom, I found this needle. Can you share it with me and sew my shirt?' Her mom smiled and said, 'Yes, Lily, we can share the needle and fix your shirt.' Together, they shared the needle and sewed the button on Lily's shirt. It was not difficult for them because they were sharing and helping each other. After they finished, Lily thanked her mom for sharing the needle and fixing her shirt. They both felt happy because they had shared and worked together.\"\n",
    "\n",
    "len(dataset['train'][random.randint(0, 17)][\"text\"])"
   ]
  }
 ],
 "metadata": {
  "kernelspec": {
   "display_name": "vlm",
   "language": "python",
   "name": "python3"
  },
  "language_info": {
   "codemirror_mode": {
    "name": "ipython",
    "version": 3
   },
   "file_extension": ".py",
   "mimetype": "text/x-python",
   "name": "python",
   "nbconvert_exporter": "python",
   "pygments_lexer": "ipython3",
   "version": "3.10.0"
  }
 },
 "nbformat": 4,
 "nbformat_minor": 2
}
